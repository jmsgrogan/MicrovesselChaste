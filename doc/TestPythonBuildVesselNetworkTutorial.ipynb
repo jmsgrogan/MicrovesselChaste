{
 "cells": [
  {
   "cell_type": "markdown",
   "metadata": {},
   "source": [
    "This tutorial is automatically generated from the file test/python/tutorials/TestPythonBuildVesselNetworkTutorial.py.\n",
    "\n"
   ]
  },
  {
   "cell_type": "markdown",
   "metadata": {},
   "source": [
    "\n",
    "= Introduction =\n",
    "This tutorial is designed to introduce the Python interface for modelling vessel networks. An equivalent C++ tutorial\n",
    "is [wiki:PaperTutorials/Angiogenesis/BuildVesselNetwork here].\n",
    "\n",
    "This tutorial covers:\n",
    " * Building a network from a collection of nodes, segments and vessels\n",
    " * Writing networks to file and visualizing with Paraview\n",
    " * Building a network using a network generator\n",
    " * Reading a network from file\n",
    " \n",
    "Further functionality is gradually introduced over the course of subsequent tutorials.\n",
    "\n",
    "= The Test =\n",
    "\n"
   ]
  },
  {
   "cell_type": "code",
   "execution_count": null,
   "metadata": {},
   "outputs": [],
   "source": [
    "import unittest\n",
    "import chaste.core\n",
    "import microvessel_chaste\n",
    "import microvessel_chaste.geometry\n",
    "import microvessel_chaste.mesh\n",
    "import microvessel_chaste.population.vessel\n",
    "from microvessel_chaste.utility import * # bring in all units for convenience\n",
    "\n",
    "class TestPythonBuildVesselNetworkLiteratePaper(unittest.TestCase):\n"
   ]
  },
  {
   "cell_type": "markdown",
   "metadata": {},
   "source": [
    "= Test 1 - Building a vessel network manually, writing it to file and visualizing it=\n",
    "In the first test we will build a vessel network from its constituent components; nodes, segments and vessels. We will do some\n",
    "simple tests to make sure the network has been formed as expected. Then we write the network to file and visualize it in Paraview.\n",
    "\n"
   ]
  },
  {
   "cell_type": "code",
   "execution_count": null,
   "metadata": {},
   "outputs": [],
   "source": [
    "    def test_BuildNetworkManually(self):\n",
    "\n"
   ]
  },
  {
   "cell_type": "markdown",
   "metadata": {},
   "source": [
    "First we make some nodes, which are point features from which vessels can be constructed. They are initialized with a location.\n",
    "All vessel network components are created using special factory methods which return shared pointers, rather than being created\n",
    "directly through their constructors. Vessel network components are templated over spatial dimension, and can be 2D or 3D. We will\n",
    "create a Y shaped network. Later we will learn how to build up networks in a more efficient manner.\n",
    "\n"
   ]
  },
  {
   "cell_type": "code",
   "execution_count": null,
   "metadata": {},
   "outputs": [],
   "source": [
    "        length_scale = 1.e-6*metre()\n",
    "        length = 100.0\n",
    "        n1 = microvessel_chaste.population.vessel.VesselNode3(0.0, 0.0 ,0.0, length_scale)\n",
    "        n2 = microvessel_chaste.population.vessel.VesselNode3(length, 0.0, 0.0, length_scale)\n",
    "        n3 = microvessel_chaste.population.vessel.VesselNode3(2.0 * length, length, 0.0, length_scale)\n",
    "        n4 = microvessel_chaste.population.vessel.VesselNode3(2.0 * length, -length, 0.0, length_scale)\n",
    "\n"
   ]
  },
  {
   "cell_type": "markdown",
   "metadata": {},
   "source": [
    "Next we make vessel segments and vessels. Vessel segments are straight-line features which contain a vascular node at each end. Vessels\n",
    "can be constructed from multiple vessel segments, but in this case each vessel just has a single segment.\n",
    "\n"
   ]
  },
  {
   "cell_type": "code",
   "execution_count": null,
   "metadata": {},
   "outputs": [],
   "source": [
    "        v1 = microvessel_chaste.population.vessel.Vessel3([n1 ,n2])\n",
    "        v2 = microvessel_chaste.population.vessel.Vessel3([n2, n3])\n",
    "        v3 = microvessel_chaste.population.vessel.Vessel3([n2, n4])\n",
    "\n"
   ]
  },
  {
   "cell_type": "markdown",
   "metadata": {},
   "source": [
    "Now we can add our vessels to a vessel network.\n",
    "\n"
   ]
  },
  {
   "cell_type": "code",
   "execution_count": null,
   "metadata": {},
   "outputs": [],
   "source": [
    "        network = microvessel_chaste.population.vessel.VesselNetwork3()\n",
    "        network.AddVessel(v1)\n",
    "        network.AddVessel(v2)\n",
    "        network.AddVessel(v3)\n",
    "\n"
   ]
  },
  {
   "cell_type": "markdown",
   "metadata": {},
   "source": [
    "We use our test framework to make sure that the network has been created correctly by checking the number of vessels and nodes\n",
    "\n"
   ]
  },
  {
   "cell_type": "code",
   "execution_count": null,
   "metadata": {},
   "outputs": [],
   "source": [
    "        self.assertEqual(network.GetNumberOfNodes(), 4)\n",
    "        self.assertEqual(network.GetNumberOfVessels(), 3)\n",
    "\n"
   ]
  },
  {
   "cell_type": "markdown",
   "metadata": {},
   "source": [
    "Next we write out network to file. We use the Chaste `OutputFileHandler` functionality to management the output location\n",
    "Networks are written using VTKs PolyData format, which should have a .vtp extension.\n",
    "\n"
   ]
  },
  {
   "cell_type": "code",
   "execution_count": null,
   "metadata": {},
   "outputs": [],
   "source": [
    "        file_handler = chaste.core.OutputFileHandler(\"Python/TestPythonBuildVesselNetworkLiteratePaper\", True)\n",
    "        writer = microvessel_chaste.population.vessel.VesselNetworkWriter3()\n",
    "        writer.SetVesselNetwork(network)\n",
    "        writer.SetFileName(file_handler.GetOutputDirectoryFullPath() + \"bifurcating_network.vtp\")\n",
    "        writer.Write()\n",
    "\n"
   ]
  },
  {
   "cell_type": "markdown",
   "metadata": {},
   "source": [
    "Now we can visualize then network in Paraview. See the tutorial [wiki:UserTutorials/VisualizingWithParaview here], to get started. To view the network import the file\n",
    "`TestPythonBuildVesselNetworkLiteratePaper\\bifurcating_network.vtp` into Paraview. For a nicer rendering you can do `Filters->Alphabetical->Tube`.\n",
    "\n"
   ]
  }
 ],
 "metadata": {},
 "nbformat": 4,
 "nbformat_minor": 1
}
