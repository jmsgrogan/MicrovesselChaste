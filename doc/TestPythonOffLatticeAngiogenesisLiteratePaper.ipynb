{
 "cells": [
  {
   "cell_type": "markdown",
   "metadata": {},
   "source": [
    "This tutorial is automatically generated from the file test/python/tutorials/TestPythonOffLatticeAngiogenesisLiteratePaper.py.\n",
    "\n"
   ]
  },
  {
   "cell_type": "markdown",
   "metadata": {},
   "source": [
    "\n",
    "# An Off Lattice Angiogenesis Tutorial\n",
    "This tutorial demonstrates functionality for modelling 3D off-lattice angiogenesis in a corneal micro\n",
    "pocket application, similar to that described in [Connor et al. 2015](http://rsif.royalsocietypublishing.org/content/12/110/20150546.abstract).\n",
    "\n",
    "It is a 3D simulation modelling VEGF diffusion and decay from an implanted pellet using finite element methods and lattice-free angiogenesis\n",
    "from a large limbal vessel towards the pellet.\n",
    "\n",
    "![Off Lattice Angiogenesis Image](https://github.com/jmsgrogan/MicrovesselChaste/raw/master/test/tutorials/images/OffLatticeMidPoint.png)\n",
    "\n",
    "# The Test\n",
    "\n"
   ]
  },
  {
   "cell_type": "code",
   "execution_count": null,
   "metadata": {},
   "outputs": [],
   "source": [
    "import unittest\n",
    "import numpy as np\n",
    "import chaste.core\n",
    "import chaste.cell_based\n",
    "chaste.init()\n",
    "import microvessel_chaste\n",
    "import microvessel_chaste.geometry\n",
    "import microvessel_chaste.mesh\n",
    "import microvessel_chaste.population.vessel\n",
    "import microvessel_chaste.pde\n",
    "import microvessel_chaste.simulation\n",
    "from microvessel_chaste.utility import * # bring in all units for convenience\n",
    "\n",
    "class TestOffLatticeAngiogenesis(chaste.cell_based.AbstractCellBasedTestSuite):\n",
    "\n",
    "    def test_fixed_outer_boundary(self):\n",
    "\n"
   ]
  },
  {
   "cell_type": "markdown",
   "metadata": {},
   "source": [
    "Set up output file management.\n",
    "\n"
   ]
  },
  {
   "cell_type": "code",
   "execution_count": null,
   "metadata": {},
   "outputs": [],
   "source": [
    "        file_handler = chaste.core.OutputFileHandler(\"Python/TestOffLatticeAngiogenesisLiteratePaper\")\n",
    "        chaste.core.RandomNumberGenerator.Instance().Reseed(12345)\n",
    "\n"
   ]
  },
  {
   "cell_type": "markdown",
   "metadata": {},
   "source": [
    "This component uses explicit dimensions for all quantities, but interfaces with solvers which take\n",
    "non-dimensional inputs. The `BaseUnits` singleton takes time, length and mass reference scales to\n",
    "allow non-dimensionalisation when sending quantities to external solvers and re-dimensionalisation of\n",
    "results. For our purposes microns for length and hours for time are suitable base units.\n",
    "\n"
   ]
  },
  {
   "cell_type": "code",
   "execution_count": null,
   "metadata": {},
   "outputs": [],
   "source": [
    "        reference_length = 1.e-6 * metre()\n",
    "        reference_time = 3600.0 * second()\n",
    "        reference_concentration = 1.e-9*mole_per_metre_cubed()\n",
    "        BaseUnits.Instance().SetReferenceLengthScale(reference_length)\n",
    "        BaseUnits.Instance().SetReferenceTimeScale(reference_time)\n",
    "        BaseUnits.Instance().SetReferenceConcentrationScale(reference_concentration)\n",
    "\n"
   ]
  },
  {
   "cell_type": "markdown",
   "metadata": {},
   "source": [
    "Set up the domain representing the cornea. This is a thin hemispherical shell. We assume some symmetry to\n",
    "reduce computational expense.\n",
    "\n"
   ]
  },
  {
   "cell_type": "code",
   "execution_count": null,
   "metadata": {},
   "outputs": [],
   "source": [
    "        hemisphere_generator = microvessel_chaste.geometry.MappableGridGenerator()\n",
    "        radius = 1400.0e-6*metre()\n",
    "        thickness = 100.0e-6*metre()\n",
    "        num_divisions_x = 10\n",
    "        num_divisions_y = 10\n",
    "        azimuth_angle = 1.0 * np.pi\n",
    "        polar_angle = 0.5 * np.pi\n",
    "        domain = hemisphere_generator.GenerateHemisphere(radius/reference_length,\n",
    "                                                         thickness/reference_length,\n",
    "                                                         num_divisions_x,\n",
    "                                                         num_divisions_y,\n",
    "                                                         azimuth_angle,\n",
    "                                                         polar_angle)\n",
    "\n"
   ]
  },
  {
   "cell_type": "markdown",
   "metadata": {},
   "source": [
    "Set up a vessel network, with divisions roughly every 'cell length'. Initially it is straight. We will map it onto the hemisphere.\n",
    "\n"
   ]
  },
  {
   "cell_type": "code",
   "execution_count": null,
   "metadata": {},
   "outputs": [],
   "source": [
    "        network_generator = microvessel_chaste.population.vessel.VesselNetworkGenerator3()\n",
    "        vessel_length = np.pi * radius\n",
    "        cell_length = 40.0e-6 * metre()\n",
    "        origin = microvessel_chaste.mesh.DimensionalChastePoint3(0.0, 4000.0, 0.0)\n",
    "        network  = network_generator.GenerateSingleVessel(vessel_length, origin, int(float(vessel_length/cell_length)) + 1, 0)\n",
    "\n",
    "        network.GetNode(0).GetFlowProperties().SetIsInputNode(True);\n",
    "        network.GetNode(0).GetFlowProperties().SetPressure(Owen11Parameters.mpInletPressure.GetValue(\"User\"))\n",
    "        network.GetNode(network.GetNumberOfNodes()-1).GetFlowProperties().SetIsOutputNode(True)\n",
    "        network.GetNode(network.GetNumberOfNodes()-1).GetFlowProperties().SetPressure(Owen11Parameters.mpOutletPressure.GetValue(\"User\"))\n",
    "        nodes = network.GetNodes();\n",
    "        for eachNode in nodes:\n",
    "\n",
    "            node_azimuth_angle = float(azimuth_angle * eachNode.rGetLocation().GetLocation(reference_length)[0]*reference_length/vessel_length)\n",
    "            node_polar_angle = float(polar_angle*eachNode.rGetLocation().GetLocation(reference_length)[1]*reference_length/vessel_length)\n",
    "            dimless_radius = (float(radius/reference_length)+(-0.5*float(thickness/reference_length)))\n",
    "            new_position = microvessel_chaste.mesh.DimensionalChastePoint3(dimless_radius * np.cos(node_azimuth_angle) * np.sin(node_polar_angle),\n",
    "                                                                           dimless_radius * np.cos(node_polar_angle),\n",
    "                                                                           dimless_radius * np.sin(node_azimuth_angle) * np.sin(node_polar_angle),\n",
    "                                                                           reference_length)\n",
    "            eachNode.SetLocation(new_position)\n",
    "\n"
   ]
  },
  {
   "cell_type": "markdown",
   "metadata": {},
   "source": [
    "The initial domain and vessel network now look as follows:\n",
    "\n",
    "![Off Lattice Angiogenesis Image](https://github.com/jmsgrogan/MicrovesselChaste/raw/master/test/tutorials/images/OffLatticeTurorialHemisphere.png)\n",
    "\n",
    "In the experimental assay a pellet containing VEGF is implanted near the top of the cornea. We model this\n",
    "as a fixed concentration of VEGF in a cuboidal region. First set up the vegf sub domain.\n",
    "\n"
   ]
  },
  {
   "cell_type": "code",
   "execution_count": null,
   "metadata": {},
   "outputs": [],
   "source": [
    "        vegf_domain = microvessel_chaste.geometry.Part3()\n",
    "        pellet_side_length = 300.0e-6 * metre()\n",
    "        origin = microvessel_chaste.mesh.DimensionalChastePoint3(-150.0,900.0,0.0)\n",
    "        vegf_domain.AddCuboid(pellet_side_length, pellet_side_length, 5.0*pellet_side_length, origin)\n",
    "\n",
    "        vegf_domain.Write(file_handler.GetOutputDirectoryFullPath()+\"initial_vegf_domain.vtp\", microvessel_chaste.geometry.GeometryFormat.VTP)\n",
    "\n"
   ]
  },
  {
   "cell_type": "markdown",
   "metadata": {},
   "source": [
    "Now make a finite element mesh on the cornea.\n",
    "\n"
   ]
  },
  {
   "cell_type": "code",
   "execution_count": null,
   "metadata": {},
   "outputs": [],
   "source": [
    "        mesh_generator = microvessel_chaste.mesh.DiscreteContinuumMeshGenerator3_3()\n",
    "        mesh_generator.SetDomain(domain)\n",
    "        #mesh_generator.SetMaxElementArea(100000.0*(units::pow<3>(1.e-6*unit::metres)));\n",
    "        mesh_generator.Update()\n",
    "        mesh = mesh_generator.GetMesh()\n",
    "\n"
   ]
  },
  {
   "cell_type": "markdown",
   "metadata": {},
   "source": [
    "Set up the vegf pde\n",
    "\n"
   ]
  },
  {
   "cell_type": "code",
   "execution_count": null,
   "metadata": {},
   "outputs": [],
   "source": [
    "        vegf_pde = microvessel_chaste.pde.LinearSteadyStateDiffusionReactionPde3_3()\n",
    "        vegf_pde.SetIsotropicDiffusionConstant(Owen11Parameters.mpVegfDiffusivity.GetValue(\"User\"))\n",
    "        vegf_pde.SetContinuumLinearInUTerm(-1.0*Owen11Parameters.mpVegfDecayRate.GetValue(\"User\"))\n",
    "        vegf_pde.SetMesh(mesh)\n",
    "        vegf_pde.SetUseRegularGrid(False)\n",
    "        vegf_pde.SetReferenceConcentration(1.e-9*mole_per_metre_cubed())\n",
    "\n"
   ]
  },
  {
   "cell_type": "markdown",
   "metadata": {},
   "source": [
    "Add a boundary condition to fix the VEGF concentration in the vegf subdomain.\n",
    "\n"
   ]
  },
  {
   "cell_type": "code",
   "execution_count": null,
   "metadata": {},
   "outputs": [],
   "source": [
    "        vegf_boundary = microvessel_chaste.pde.DiscreteContinuumBoundaryCondition3()\n",
    "        vegf_boundary.SetType(microvessel_chaste.pde.BoundaryConditionType.IN_PART)\n",
    "        vegf_boundary.SetSource(microvessel_chaste.pde.BoundaryConditionSource.PRESCRIBED)\n",
    "        vegf_boundary.SetValue(3.e-9*mole_per_metre_cubed())\n",
    "        vegf_boundary.SetDomain(vegf_domain)\n",
    "\n"
   ]
  },
  {
   "cell_type": "markdown",
   "metadata": {},
   "source": [
    "Set up the PDE solvers for the vegf problem. Note the scaling of the concentration to nM to avoid numerical\n",
    "precision problems.\n",
    "\n"
   ]
  },
  {
   "cell_type": "code",
   "execution_count": null,
   "metadata": {},
   "outputs": [],
   "source": [
    "        vegf_solver = microvessel_chaste.pde.FiniteElementSolver3()\n",
    "        vegf_solver.SetPde(vegf_pde)\n",
    "        vegf_solver.SetLabel(\"vegf\")\n",
    "        vegf_solver.SetMesh(mesh)\n",
    "        vegf_solver.AddBoundaryCondition(vegf_boundary)\n",
    "\n"
   ]
  },
  {
   "cell_type": "markdown",
   "metadata": {},
   "source": [
    "An example of the VEGF solution is shown here:\n",
    "\n",
    "![Off Lattice Angiogenesis Image](https://github.com/jmsgrogan/MicrovesselChaste/raw/master/test/tutorials/images/OffLatticeTutorialVegf.png)\n",
    "\n",
    "Set up an angiogenesis solver and add sprouting and migration rules.\n",
    "\n",
    "angiogenesis_solver = microvessel_chaste.simulation.AngiogenesisSolver3()\n"
   ]
  },
  {
   "cell_type": "code",
   "execution_count": null,
   "metadata": {},
   "outputs": [],
   "source": [
    "        sprouting_rule = microvessel_chaste.simulation.OffLatticeSproutingRule3()\n",
    "        sprouting_rule.SetSproutingProbability(1.e6* per_second())\n",
    "        migration_rule = microvessel_chaste.simulation.OffLatticeMigrationRule3()\n",
    "        migration_rule.SetChemotacticStrength(0.1)\n",
    "        migration_rule.SetAttractionStrength(0.5)\n",
    "\n",
    "        sprout_velocity = (50.0e-6/(24.0*3600.0))*metre_per_second() #Secomb13\n",
    "        migration_rule.SetSproutingVelocity(sprout_velocity)\n",
    "\n",
    "        angiogenesis_solver.SetMigrationRule(migration_rule)\n",
    "        angiogenesis_solver.SetSproutingRule(sprouting_rule)\n",
    "        sprouting_rule.SetDiscreteContinuumSolver(vegf_solver)\n",
    "        migration_rule.SetDiscreteContinuumSolver(vegf_solver)\n",
    "        angiogenesis_solver.SetVesselNetwork(network)\n",
    "        angiogenesis_solver.SetBoundingDomain(domain)\n",
    "\n"
   ]
  },
  {
   "cell_type": "markdown",
   "metadata": {},
   "source": [
    "Set up the `MicrovesselSolver` which coordinates all solves. Note that for sequentially\n",
    "coupled PDE solves, the solution propagates in the order that the PDE solvers are added to the `MicrovesselSolver`.\n",
    "\n"
   ]
  },
  {
   "cell_type": "code",
   "execution_count": null,
   "metadata": {},
   "outputs": [],
   "source": [
    "        microvessel_solver = microvessel_chaste.simulation.MicrovesselSolver3()\n",
    "        microvessel_solver.SetVesselNetwork(network)\n",
    "        microvessel_solver.AddDiscreteContinuumSolver(vegf_solver)\n",
    "        microvessel_solver.SetOutputFileHandler(file_handler)\n",
    "        microvessel_solver.SetOutputFrequency(5)\n",
    "        microvessel_solver.SetAngiogenesisSolver(angiogenesis_solver)\n",
    "        microvessel_solver.SetUpdatePdeEachSolve(False)\n",
    "\n"
   ]
  },
  {
   "cell_type": "markdown",
   "metadata": {},
   "source": [
    "Set the simulation time and run the solver. The result is shown at the top of the tutorial.\n",
    "\n"
   ]
  },
  {
   "cell_type": "code",
   "execution_count": null,
   "metadata": {},
   "outputs": [],
   "source": [
    "        chaste.cell_based.SimulationTime.Instance().SetEndTimeAndNumberOfTimeSteps(100.0, 10)\n",
    "        microvessel_solver.Run()\n",
    "\n",
    "if __name__ == '__main__':\n",
    "    unittest.main()\n",
    "\n"
   ]
  }
 ],
 "metadata": {},
 "nbformat": 4,
 "nbformat_minor": 1
}
