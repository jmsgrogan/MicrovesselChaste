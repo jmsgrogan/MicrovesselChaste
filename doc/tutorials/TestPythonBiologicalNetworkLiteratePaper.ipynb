{
 "cells": [
  {
   "cell_type": "markdown",
   "metadata": {},
   "source": [
    "This tutorial is automatically generated from the file test/python/tutorials//TestPythonBiologicalNetworkLiteratePaper.py.\n",
    "\n"
   ]
  },
  {
   "cell_type": "code",
   "execution_count": null,
   "metadata": {},
   "outputs": [],
   "source": [
    "# Jupyter notebook specific imports \n",
    "import matplotlib as mpl \n",
    "import matplotlib.pyplot as plt \n",
    "%matplotlib inline"
   ]
  },
  {
   "cell_type": "markdown",
   "metadata": {},
   "source": [
    "\n",
    "# A Lattice Based Angiogenesis Tutorial\n",
    "This tutorial is designed to introduce a lattice based angiogenesis problem based on a simplified version of the\n",
    "vascular tumour application described in\n",
    "[Owen et al. 2011](http://www.ncbi.nlm.nih.gov/pubmed/21363914).\n",
    "\n",
    "It is a 3D simulation using cellular automaton\n",
    "for cells, a regular grid for vessel movement and the same grid for the solution of partial differential equations\n",
    "for oxygen and VEGF transport using the finite difference method.\n",
    "\n",
    "![Lattice Based Angiogenesis Image](https://github.com/jmsgrogan/MicrovesselChaste/raw/master/test/tutorials/images/landing.png)\n",
    "\n",
    "## The Test\n",
    "\n"
   ]
  },
  {
   "cell_type": "code",
   "execution_count": null,
   "metadata": {},
   "outputs": [],
   "source": [
    "import chaste.core\n",
    "import chaste.cell_based\n",
    "chaste.init()\n",
    "import microvessel_chaste\n",
    "import microvessel_chaste.geometry\n",
    "import microvessel_chaste.mesh\n",
    "import microvessel_chaste.population.vessel\n",
    "import microvessel_chaste.pde\n",
    "import microvessel_chaste.simulation\n",
    "import microvessel_chaste.visualization\n",
    "from microvessel_chaste.utility import * # bring in all units for convenience"
   ]
  },
  {
   "cell_type": "markdown",
   "metadata": {},
   "source": [
    "Set up output file management and seed the random number generator.\n",
    "\n"
   ]
  },
  {
   "cell_type": "code",
   "execution_count": null,
   "metadata": {},
   "outputs": [],
   "source": [
    "file_handler = chaste.core.OutputFileHandler(\"Python/TestBiologicalNetworkLiteratePaper\")\n",
    "chaste.core.RandomNumberGenerator.Instance().Reseed(12345)"
   ]
  },
  {
   "cell_type": "markdown",
   "metadata": {},
   "source": [
    "This component uses explicit dimensions for all quantities, but interfaces with solvers which take\n",
    "non-dimensional inputs. The `BaseUnits` singleton takes time, length and mass reference scales to\n",
    "allow non-dimensionalisation when sending quantities to external solvers and re-dimensionalisation of\n",
    "results. For our purposes microns for length and hours for time are suitable base units.\n",
    "\n"
   ]
  },
  {
   "cell_type": "code",
   "execution_count": null,
   "metadata": {},
   "outputs": [],
   "source": [
    "reference_length = 1.e-6*metre()\n",
    "reference_time = 3600.0*second()\n",
    "reference_concentration = 1.e-6*mole_per_metre_cubed()\n",
    "BaseUnits.Instance().SetReferenceLengthScale(reference_length)\n",
    "BaseUnits.Instance().SetReferenceTimeScale(reference_time)\n",
    "BaseUnits.Instance().SetReferenceConcentrationScale(reference_concentration)"
   ]
  },
  {
   "cell_type": "markdown",
   "metadata": {},
   "source": [
    "Read a vessel network derived from biological images from file\n",
    "\n"
   ]
  },
  {
   "cell_type": "code",
   "execution_count": null,
   "metadata": {},
   "outputs": [],
   "source": [
    "vessel_reader = microvessel_chaste.population.vessel.VesselNetworkReader3()\n",
    "file_finder = chaste.core.FileFinder(\"/projects/MicrovesselChaste/test/data/bio_original.vtp\",\n",
    "chaste.core.RelativeTo.ChasteSourceRoot)\n",
    "vessel_reader.SetFileName(file_finder.GetAbsolutePath())\n",
    "#vessel_reader.SetMergeCoincidentPoints(True)\n",
    "#vessel_reader.SetTargetSegmentLength(40.0e-6*metre())\n",
    "network = vessel_reader.Read()"
   ]
  },
  {
   "cell_type": "markdown",
   "metadata": {},
   "source": [
    "The vessel network may contain short vessels due to image processing artifacts,\n",
    "we remove any vessels that are on the order of a single cell length and are not connected\n",
    "to other vessels at both ends. Note that units are explicitly specified for all quantities. It is\n",
    "ok to allow some small disconnected regions to remain for our purposes.\n",
    "\n"
   ]
  },
  {
   "cell_type": "code",
   "execution_count": null,
   "metadata": {},
   "outputs": [],
   "source": [
    "short_vessel_cutoff = 40.0e-6 * metre()\n",
    "remove_end_vessels_only = True\n",
    "network.RemoveShortVessels(short_vessel_cutoff, remove_end_vessels_only)\n",
    "network.UpdateAll()\n",
    "network.MergeCoincidentNodes()\n",
    "network.UpdateAll()"
   ]
  },
  {
   "cell_type": "markdown",
   "metadata": {},
   "source": [
    "Write the modified network to file for inspection\n",
    "\n"
   ]
  },
  {
   "cell_type": "code",
   "execution_count": null,
   "metadata": {},
   "outputs": [],
   "source": [
    "network.Write(file_handler.GetOutputDirectoryFullPath() + \"cleaned_network.vtp\")\n",
    "scene = microvessel_chaste.visualization.MicrovesselVtkScene3()\n",
    "scene.SetIsInteractive(True)\n",
    "scene.SetOutputFilePath(file_handler.GetOutputDirectoryFullPath()+\"render\")\n",
    "scene.SetVesselNetwork(network)\n",
    "scene.GetVesselNetworkActorGenerator().SetEdgeSize(20.0)"
   ]
  },
  {
   "cell_type": "markdown",
   "metadata": {},
   "source": [
    "Simulating tumour growth for the entire network would be prohibitive for this tutorial, so\n",
    "we sample a small region. We can use some geometry tools to help.\n",
    "cylinder = microvessel_chaste.geometry.Part3()\n"
   ]
  },
  {
   "cell_type": "code",
   "execution_count": null,
   "metadata": {},
   "outputs": [],
   "source": [
    "centre = microvessel_chaste.mesh.DimensionalChastePoint3(2300.0, 2300.0, -5.0, 1.e-6*metre())\n",
    "radius = 600.0e-6*metre()\n",
    "depth = 205.e-6*metre()\n",
    "cylinder.AddCylinder(radius, depth, centre, 24)\n",
    "cylinder.BooleanWithNetwork(network)\n",
    "network.Write(file_handler.GetOutputDirectoryFullPath() + \"cleaned_cut_network.vtp\")"
   ]
  },
  {
   "cell_type": "markdown",
   "metadata": {},
   "source": [
    "We are ready to simulate tumour growth and angiogenesis. We will use a regular lattice for\n",
    "this purpose. We size and position the lattice according to the bounds of the vessel network.\n",
    "\n"
   ]
  },
  {
   "cell_type": "code",
   "execution_count": null,
   "metadata": {},
   "outputs": [],
   "source": [
    "#network_bounding_box = network.GetExtents()\n",
    "network_bounding_box = [microvessel_chaste.mesh.DimensionalChastePoint3(1500.0, 1600.0, -10.0, 1.e-6*metre()),\n",
    "microvessel_chaste.mesh.DimensionalChastePoint3(3100.0, 3000.0, 300.0, 1.e-6*metre())]\n",
    "grid = microvessel_chaste.mesh.RegularGrid3()\n",
    "grid_spacing = 40.0e-6* metre()\n",
    "grid.SetSpacing(grid_spacing)"
   ]
  },
  {
   "cell_type": "markdown",
   "metadata": {},
   "source": [
    "We can use the built-in dimensional analysis functionality to get the network extents in terms of grid units\n",
    "botom_front_left =  network_bounding_box[0].GetLocation(grid_spacing)\n"
   ]
  },
  {
   "cell_type": "code",
   "execution_count": null,
   "metadata": {},
   "outputs": [],
   "source": [
    "top_back_right =  network_bounding_box[1].GetLocation(grid_spacing)\n",
    "extents = top_back_right - botom_front_left\n",
    "extents = [int(x)+1 for x in extents] # snap to the nearest unit, overestimate size if needed\n",
    "grid.SetExtents(extents)\n",
    "network.Translate(microvessel_chaste.mesh.DimensionalChastePoint3(-1500.0, -1600.0, +10.0, 1.e-6*metre()))"
   ]
  },
  {
   "cell_type": "markdown",
   "metadata": {},
   "source": [
    "We can write the lattice to file for quick visualization.\n",
    "\n"
   ]
  },
  {
   "cell_type": "code",
   "execution_count": null,
   "metadata": {},
   "outputs": [],
   "source": [
    "grid.Write(file_handler)\n",
    "scene.SetRegularGrid(grid)"
   ]
  },
  {
   "cell_type": "markdown",
   "metadata": {},
   "source": [
    "Next we set the inflow and outflow boundary conditions for blood flow. Because the network connectivity\n",
    "is relatively low we assign all vessels near the top of the domain (z coord) as inflows and the bottom\n",
    "as outflows.\n",
    "\n"
   ]
  },
  {
   "cell_type": "code",
   "execution_count": null,
   "metadata": {},
   "outputs": [],
   "source": [
    "for eachNode in network.GetNodes():\n",
    "if eachNode.GetNumberOfSegments() == 1:\n",
    "if abs(eachNode.rGetLocation().GetLocation(1.e-6*metre())[2] - network_bounding_box[1].GetLocation(1.e-6*metre())[2]) < 80.0:\n",
    "eachNode.GetFlowProperties().SetIsInputNode(True)\n",
    "eachNode.GetFlowProperties().SetPressure(Owen11Parameters.mpInletPressure.GetValue(\"User\"))\n",
    "elif abs(eachNode.rGetLocation().GetLocation(1.e-6*metre())[2] - network_bounding_box[0].GetLocation(1.e-6*metre())[2]) < 80.0:\n",
    "eachNode.GetFlowProperties().SetIsOutputNode(True);\n",
    "eachNode.GetFlowProperties().SetPressure(Owen11Parameters.mpOutletPressure.GetValue(\"User\"))"
   ]
  },
  {
   "cell_type": "markdown",
   "metadata": {},
   "source": [
    "Again, we can write the network to file for visualization\n",
    "\n"
   ]
  },
  {
   "cell_type": "code",
   "execution_count": null,
   "metadata": {},
   "outputs": [],
   "source": [
    "network.Write(file_handler.GetOutputDirectoryFullPath() + \"flow_boundary_labelled_network.vtp\")"
   ]
  },
  {
   "cell_type": "markdown",
   "metadata": {},
   "source": [
    "Next, set up the cell populations. We will setup up a population similar to that used in the Owen et al., 2011 paper. That is, a grid\n",
    "filled with normal cells and a tumour spheroid in the middle. We can use a generator for this purpose. The generator simply sets up\n",
    "the population using conventional Cell Based Chaste methods.\n",
    "\n"
   ]
  },
  {
   "cell_type": "code",
   "execution_count": null,
   "metadata": {},
   "outputs": [],
   "source": [
    "cell_population_genenerator = microvessel_chaste.population.cell.Owen11CellPopulationGenerator3()\n",
    "cell_population_genenerator.SetRegularGrid(grid)\n",
    "cell_population_genenerator.SetVesselNetwork(network)\n",
    "tumour_radius = 300.0 * 1.e-6 * metre()\n",
    "cell_population_genenerator.SetTumourRadius(tumour_radius)\n",
    "cell_population = cell_population_genenerator.Update()\n",
    "#scene.Start()\n",
    "#scene.StartInteractiveEventHandler()"
   ]
  },
  {
   "cell_type": "markdown",
   "metadata": {},
   "source": [
    "\n",
    "At this point the simulation domain will look as follows:\n",
    "\n",
    "![Lattice Based Angiogenesis Image](https://github.com/jmsgrogan/MicrovesselChaste/raw/master/test/tutorials/images/Lattice_Based_Tutorial_Cell_Setup.png)\n",
    "\n",
    "Next set up the PDEs for oxygen and VEGF. Cells will act as discrete oxygen sinks and discrete vegf sources. A sample PDE solution for\n",
    "oxygen is shown below:\n",
    "\n",
    "![Lattice Based Angiogenesis Image](https://github.com/jmsgrogan/MicrovesselChaste/raw/master/test/tutorials/images/LatticeTutorialSampleOxygen.png)\n",
    "\n"
   ]
  },
  {
   "cell_type": "code",
   "execution_count": null,
   "metadata": {},
   "outputs": [],
   "source": [
    "oxygen_pde = microvessel_chaste.pde.LinearSteadyStateDiffusionReactionPde3_3()\n",
    "oxygen_pde.SetIsotropicDiffusionConstant(Owen11Parameters.mpOxygenDiffusivity.GetValue(\"User\"))\n",
    "cell_oxygen_sink = microvessel_chaste.pde.CellBasedDiscreteSource3()\n",
    "cell_oxygen_sink.SetLinearInUConsumptionRatePerCell(Owen11Parameters.mpCellOxygenConsumptionRate.GetValue(\"User\"))\n",
    "oxygen_pde.AddDiscreteSource(cell_oxygen_sink)"
   ]
  },
  {
   "cell_type": "markdown",
   "metadata": {},
   "source": [
    "Vessels release oxygen depending on their haematocrit levels\n",
    "\n"
   ]
  },
  {
   "cell_type": "code",
   "execution_count": null,
   "metadata": {},
   "outputs": [],
   "source": [
    "vessel_oxygen_source = microvessel_chaste.pde.VesselBasedDiscreteSource3()\n",
    "#oxygen_solubility_at_stp = Secomb04Parameters.mpOxygenVolumetricSolubility.GetValue(\"User\") * GenericParameters.mpGasConcentrationAtStp.GetValue(\"User\")\n",
    "#vessel_oxygen_concentration = oxygen_solubility_at_stp * Owen11Parameters.mpReferencePartialPressure.GetValue(\"User\")\n",
    "vessel_oxygen_concentration = 0.03 * mole_per_metre_cubed()\n",
    "vessel_oxygen_source.SetReferenceConcentration(vessel_oxygen_concentration)\n",
    "vessel_oxygen_source.SetVesselPermeability(Owen11Parameters.mpVesselOxygenPermeability.GetValue(\"User\"))\n",
    "vessel_oxygen_source.SetReferenceHaematocrit(Owen11Parameters.mpInflowHaematocrit.GetValue(\"User\"))\n",
    "oxygen_pde.AddDiscreteSource(vessel_oxygen_source);"
   ]
  },
  {
   "cell_type": "markdown",
   "metadata": {},
   "source": [
    "Set up a finite difference solver and pass it the pde and grid.\n",
    "\n"
   ]
  },
  {
   "cell_type": "code",
   "execution_count": null,
   "metadata": {},
   "outputs": [],
   "source": [
    "oxygen_solver = microvessel_chaste.pde.FiniteDifferenceSolver3()\n",
    "oxygen_solver.SetPde(oxygen_pde)\n",
    "oxygen_solver.SetLabel(\"oxygen\")\n",
    "oxygen_solver.SetGrid(grid)"
   ]
  },
  {
   "cell_type": "markdown",
   "metadata": {},
   "source": [
    "The rate of VEGF release depends on the cell type and intracellular VEGF levels, so we need a more detailed\n",
    "type of discrete source. A sample PDE solution for VEGF is shown below.\n",
    "\n",
    "![Lattice Based Angiogenesis Image](https://github.com/jmsgrogan/MicrovesselChaste/raw/master/test/tutorials/images/LatticeTutorialSampleVegf.png)\n",
    "\n"
   ]
  },
  {
   "cell_type": "code",
   "execution_count": null,
   "metadata": {},
   "outputs": [],
   "source": [
    "vegf_pde = microvessel_chaste.pde.LinearSteadyStateDiffusionReactionPde3_3()\n",
    "vegf_pde.SetIsotropicDiffusionConstant(Owen11Parameters.mpVegfDiffusivity.GetValue(\"User\"))\n",
    "vegf_pde.SetContinuumLinearInUTerm(-1.0 * Owen11Parameters.mpVegfDecayRate.GetValue(\"User\"))"
   ]
  },
  {
   "cell_type": "markdown",
   "metadata": {},
   "source": [
    "Set up a map for different release rates depending on cell type. Also include a threshold intracellular VEGF below which\n",
    "there is no release.\n",
    "\n"
   ]
  },
  {
   "cell_type": "code",
   "execution_count": null,
   "metadata": {},
   "outputs": [],
   "source": [
    "normal_and_quiescent_cell_source = microvessel_chaste.pde.CellStateDependentDiscreteSource3()\n",
    "normal_and_quiescent_cell_rates = microvessel_chaste.pde.MapUnsigned_ConcentrationFlowRate()\n",
    "normal_and_quiescent_cell_rate_thresholds = microvessel_chaste.pde.MapUnsigned_Concentration()\n",
    "quiescent_cancer_state = microvessel_chaste.population.cell.QuiescentCancerCellMutationState()\n",
    "normal_cell_state = chaste.cell_based.WildTypeCellMutationState()\n",
    "normal_and_quiescent_cell_rates[normal_cell_state.GetColour()] = Owen11Parameters.mpCellVegfSecretionRate.GetValue(\"User\")\n",
    "normal_and_quiescent_cell_rate_thresholds[normal_cell_state.GetColour()] = 0.27*mole_per_metre_cubed()\n",
    "normal_and_quiescent_cell_rates[quiescent_cancer_state.GetColour()] = Owen11Parameters.mpCellVegfSecretionRate.GetValue(\"User\")\n",
    "normal_and_quiescent_cell_rate_thresholds[quiescent_cancer_state.GetColour()] = 0.0*mole_per_metre_cubed()\n",
    "normal_and_quiescent_cell_source.SetStateRateMap(normal_and_quiescent_cell_rates)\n",
    "normal_and_quiescent_cell_source.SetLabelName(\"VEGF\")\n",
    "normal_and_quiescent_cell_source.SetStateRateThresholdMap(normal_and_quiescent_cell_rate_thresholds)\n",
    "vegf_pde.AddDiscreteSource(normal_and_quiescent_cell_source)"
   ]
  },
  {
   "cell_type": "markdown",
   "metadata": {},
   "source": [
    "Add a vessel related VEGF sink\n",
    "\n"
   ]
  },
  {
   "cell_type": "code",
   "execution_count": null,
   "metadata": {},
   "outputs": [],
   "source": [
    "vessel_vegf_sink = microvessel_chaste.pde.VesselBasedDiscreteSource3()\n",
    "vessel_vegf_sink.SetReferenceConcentration(0.0*mole_per_metre_cubed())\n",
    "vessel_vegf_sink.SetVesselPermeability(Owen11Parameters.mpVesselVegfPermeability.GetValue(\"User\"))\n",
    "vegf_pde.AddDiscreteSource(vessel_vegf_sink)"
   ]
  },
  {
   "cell_type": "markdown",
   "metadata": {},
   "source": [
    "Set up a finite difference solver as before.\n",
    "\n",
    "vegf_solver = microvessel_chaste.pde.FiniteDifferenceSolver3()\n"
   ]
  },
  {
   "cell_type": "code",
   "execution_count": null,
   "metadata": {},
   "outputs": [],
   "source": [
    "vegf_solver.SetPde(vegf_pde)\n",
    "vegf_solver.SetLabel(\"VEGF_Extracellular\")\n",
    "vegf_solver.SetGrid(grid)"
   ]
  },
  {
   "cell_type": "markdown",
   "metadata": {},
   "source": [
    "Next set up the flow problem. Assign a blood plasma viscosity to the vessels. The actual viscosity will\n",
    "depend on haematocrit and diameter. This solver manages growth and shrinkage of vessels in response to\n",
    "flow related stimuli. A sample plot of the stimulus distrbution during a simulation is shown below:\n",
    "\n",
    "![Lattice Based Angiogenesis Image](https://github.com/jmsgrogan/MicrovesselChaste/raw/master/test/tutorials/images/LatticeTutorialSampleGrowth.png)\n",
    "\n"
   ]
  },
  {
   "cell_type": "code",
   "execution_count": null,
   "metadata": {},
   "outputs": [],
   "source": [
    "large_vessel_radius = 25.0e-6 * metre()\n",
    "network.SetSegmentRadii(large_vessel_radius)\n",
    "viscosity = Owen11Parameters.mpPlasmaViscosity.GetValue(\"User\")\n",
    "network.SetSegmentViscosity(viscosity);"
   ]
  },
  {
   "cell_type": "markdown",
   "metadata": {},
   "source": [
    "Set up the pre- and post flow calculators.\n",
    "\n"
   ]
  },
  {
   "cell_type": "code",
   "execution_count": null,
   "metadata": {},
   "outputs": [],
   "source": [
    "impedance_calculator = microvessel_chaste.simulation.VesselImpedanceCalculator3()\n",
    "haematocrit_calculator = microvessel_chaste.simulation.ConstantHaematocritSolver3()\n",
    "haematocrit_calculator.SetHaematocrit(Owen11Parameters.mpInflowHaematocrit.GetValue(\"User\"))\n",
    "wss_calculator = microvessel_chaste.simulation.WallShearStressCalculator3()\n",
    "mech_stimulus_calculator = microvessel_chaste.simulation.MechanicalStimulusCalculator3()\n",
    "metabolic_stim_calculator = microvessel_chaste.simulation.MetabolicStimulusCalculator3()\n",
    "shrinking_stimulus_calculator = microvessel_chaste.simulation.ShrinkingStimulusCalculator3()\n",
    "viscosity_calculator = microvessel_chaste.simulation.ViscosityCalculator3()"
   ]
  },
  {
   "cell_type": "markdown",
   "metadata": {},
   "source": [
    "Set up and configure the structural adaptation solver.\n",
    "\n"
   ]
  },
  {
   "cell_type": "code",
   "execution_count": null,
   "metadata": {},
   "outputs": [],
   "source": [
    "structural_adaptation_solver = microvessel_chaste.simulation.StructuralAdaptationSolver3()\n",
    "structural_adaptation_solver.SetTolerance(0.0001)\n",
    "structural_adaptation_solver.SetMaxIterations(100)\n",
    "structural_adaptation_solver.SetTimeIncrement(Owen11Parameters.mpVesselRadiusUpdateTimestep.GetValue(\"User\"));\n",
    "structural_adaptation_solver.AddPreFlowSolveCalculator(impedance_calculator)\n",
    "structural_adaptation_solver.AddPostFlowSolveCalculator(haematocrit_calculator)\n",
    "structural_adaptation_solver.AddPostFlowSolveCalculator(wss_calculator)\n",
    "structural_adaptation_solver.AddPostFlowSolveCalculator(metabolic_stim_calculator)\n",
    "structural_adaptation_solver.AddPostFlowSolveCalculator(mech_stimulus_calculator)\n",
    "structural_adaptation_solver.AddPostFlowSolveCalculator(viscosity_calculator)"
   ]
  },
  {
   "cell_type": "markdown",
   "metadata": {},
   "source": [
    "Set up a regression solver.\n",
    "\n"
   ]
  },
  {
   "cell_type": "code",
   "execution_count": null,
   "metadata": {},
   "outputs": [],
   "source": [
    "regression_solver = microvessel_chaste.simulation.WallShearStressBasedRegressionSolver3()"
   ]
  },
  {
   "cell_type": "markdown",
   "metadata": {},
   "source": [
    "Set up an angiogenesis solver and add sprouting and migration rules.\n",
    "\n"
   ]
  },
  {
   "cell_type": "code",
   "execution_count": null,
   "metadata": {},
   "outputs": [],
   "source": [
    "angiogenesis_solver = microvessel_chaste.simulation.AngiogenesisSolver3()\n",
    "sprouting_rule = microvessel_chaste.simulation.Owen2011SproutingRule3()\n",
    "sprouting_rule.SetSproutingProbability(1.e-4*per_second())\n",
    "migration_rule = microvessel_chaste.simulation.Owen2011MigrationRule3()\n",
    "angiogenesis_solver.SetMigrationRule(migration_rule)\n",
    "angiogenesis_solver.SetSproutingRule(sprouting_rule)\n",
    "sprouting_rule.SetDiscreteContinuumSolver(vegf_solver)\n",
    "migration_rule.SetDiscreteContinuumSolver(vegf_solver)\n",
    "angiogenesis_solver.SetVesselGrid(grid)\n",
    "angiogenesis_solver.SetVesselNetwork(network)"
   ]
  },
  {
   "cell_type": "markdown",
   "metadata": {},
   "source": [
    "The microvessel solver will manage all aspects of the vessel solve.\n",
    "\n"
   ]
  },
  {
   "cell_type": "code",
   "execution_count": null,
   "metadata": {},
   "outputs": [],
   "source": [
    "microvessel_solver = microvessel_chaste.simulation.MicrovesselSolver3()\n",
    "microvessel_solver.SetVesselNetwork(network)\n",
    "microvessel_solver.SetOutputFrequency(5)\n",
    "microvessel_solver.AddDiscreteContinuumSolver(oxygen_solver)\n",
    "microvessel_solver.AddDiscreteContinuumSolver(vegf_solver)\n",
    "microvessel_solver.SetStructuralAdaptationSolver(structural_adaptation_solver)\n",
    "microvessel_solver.SetRegressionSolver(regression_solver)\n",
    "microvessel_solver.SetAngiogenesisSolver(angiogenesis_solver)"
   ]
  },
  {
   "cell_type": "markdown",
   "metadata": {},
   "source": [
    "The microvessel solution modifier will link the vessel and cell solvers. We need to explicitly tell is\n",
    "which extracellular fields to update based on PDE solutions.\n",
    "\n"
   ]
  },
  {
   "cell_type": "code",
   "execution_count": null,
   "metadata": {},
   "outputs": [],
   "source": [
    "microvessel_modifier = microvessel_chaste.simulation.MicrovesselSimulationModifier3()\n",
    "microvessel_modifier.SetMicrovesselSolver(microvessel_solver)\n",
    "update_labels = microvessel_chaste.simulation.VecString()\n",
    "update_labels.append(\"oxygen\")\n",
    "update_labels.append(\"VEGF_Extracellular\")\n",
    "microvessel_modifier.SetCellDataUpdateLabels(update_labels)"
   ]
  },
  {
   "cell_type": "markdown",
   "metadata": {},
   "source": [
    "The full simulation is run as a typical Cell Based Chaste simulation\n",
    "\n"
   ]
  },
  {
   "cell_type": "code",
   "execution_count": null,
   "metadata": {},
   "outputs": [],
   "source": [
    "simulator = chaste.cell_based.OnLatticeSimulation3(cell_population)\n",
    "simulator.AddSimulationModifier(microvessel_modifier)"
   ]
  },
  {
   "cell_type": "markdown",
   "metadata": {},
   "source": [
    "Add a killer to remove apoptotic cells\n",
    "\n"
   ]
  },
  {
   "cell_type": "code",
   "execution_count": null,
   "metadata": {},
   "outputs": [],
   "source": [
    "apoptotic_cell_killer = chaste.cell_based.ApoptoticCellKiller3(cell_population)\n",
    "simulator.AddCellKiller(apoptotic_cell_killer)"
   ]
  },
  {
   "cell_type": "markdown",
   "metadata": {},
   "source": [
    "Add another modifier for updating cell cycle quantities.\n",
    "\n"
   ]
  },
  {
   "cell_type": "code",
   "execution_count": null,
   "metadata": {},
   "outputs": [],
   "source": [
    "owen11_tracking_modifier = microvessel_chaste.simulation.Owen2011TrackingModifier3()\n",
    "simulator.AddSimulationModifier(owen11_tracking_modifier)"
   ]
  },
  {
   "cell_type": "markdown",
   "metadata": {},
   "source": [
    "Set up the remainder of the simulation\n",
    "\n"
   ]
  },
  {
   "cell_type": "code",
   "execution_count": null,
   "metadata": {},
   "outputs": [],
   "source": [
    "simulator.SetOutputDirectory(\"Python/TestBiologicalNetworkLiteratePaper\")\n",
    "simulator.SetSamplingTimestepMultiple(5)\n",
    "simulator.SetDt(0.5)"
   ]
  },
  {
   "cell_type": "markdown",
   "metadata": {},
   "source": [
    "This end time corresponds to roughly 10 minutes run-time on a desktop PC. Increase it or decrease as\n",
    "preferred. The end time used in Owen et al. 2011 is 4800 hours.\n",
    "\n"
   ]
  },
  {
   "cell_type": "code",
   "execution_count": null,
   "metadata": {},
   "outputs": [],
   "source": [
    "simulator.SetEndTime(100.0)"
   ]
  },
  {
   "cell_type": "markdown",
   "metadata": {},
   "source": [
    "Do the solve. A sample solution is shown at the top of this test.\n",
    "\n",
    "try:\n"
   ]
  },
  {
   "cell_type": "code",
   "execution_count": null,
   "metadata": {},
   "outputs": [],
   "source": [
    "simulator.Solve()\n",
    "except chaste.ChasteException as e:\n",
    "print e.GetMessage"
   ]
  },
  {
   "cell_type": "markdown",
   "metadata": {},
   "source": [
    "Dump the parameters to file for inspection.\n",
    "\n"
   ]
  },
  {
   "cell_type": "code",
   "execution_count": null,
   "metadata": {},
   "outputs": [],
   "source": [
    "ParameterCollection.Instance().DumpToFile(file_handler.GetOutputDirectoryFullPath()+\"parameter_collection.xml\")"
   ]
  }
 ],
 "metadata": {},
 "nbformat": 4,
 "nbformat_minor": 1
}
