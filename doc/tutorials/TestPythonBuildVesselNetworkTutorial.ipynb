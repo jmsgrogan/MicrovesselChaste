{
 "cells": [
  {
   "cell_type": "markdown",
   "metadata": {},
   "source": [
    "This tutorial is automatically generated from the file test/python/tutorials//TestPythonBuildVesselNetworkTutorial.py.\n",
    "\n"
   ]
  },
  {
   "cell_type": "code",
   "execution_count": null,
   "metadata": {},
   "outputs": [],
   "source": [
    "# Jupyter notebook specific imports \n",
    "import matplotlib as mpl \n",
    "from IPython import display \n",
    "%matplotlib inline"
   ]
  },
  {
   "cell_type": "markdown",
   "metadata": {},
   "source": [
    "\n",
    "## Introduction\n",
    "This tutorial introduces modelling vessel networks. It will cover the following techniques:\n",
    "\n",
    " * Building a network from a collection of nodes, segments and vessels\n",
    " * Writing networks to file and visualizing it\n",
    " * Building a network using a network generator\n",
    " \n",
    "## The Test\n",
    "\n"
   ]
  },
  {
   "cell_type": "code",
   "execution_count": null,
   "metadata": {},
   "outputs": [],
   "source": [
    "import chaste # Core Chaste functionality\n",
    "import microvessel_chaste # Core Microvessel Chaste functionality\n",
    "import microvessel_chaste.population.vessel # Vessel tools\n",
    "import microvessel_chaste.visualization # Visualization\n",
    "from microvessel_chaste.utility import * # Dimensional analysis: bring in all units for convenience"
   ]
  },
  {
   "cell_type": "markdown",
   "metadata": {},
   "source": [
    "## Test 1 - Building a vessel network manually, writing it to file and visualizing it\n",
    "In the first test we will build a vessel network from its constituent components; nodes,\n",
    "segments and vessels. We will do some simple tests to make sure the network has been formed\n",
    "as expected. Then we write the network to file and visualize it.\n",
    "\n"
   ]
  },
  {
   "cell_type": "markdown",
   "metadata": {},
   "source": [
    "First we make some nodes, which are point features from which vessels can be constructed.\n",
    "They are initialized with a location. Vessel network components are specialized (templated)\n",
    "over spatial dimension, and can be 2D or 3D. We will create a Y shaped network.\n",
    "Later we will learn how to build up networks in a more efficient manner. Note that we\n",
    "are being explicit regarding units, setting a length scale of 1 micron.\n",
    "\n"
   ]
  },
  {
   "cell_type": "code",
   "execution_count": null,
   "metadata": {},
   "outputs": [],
   "source": [
    "file_handler = chaste.core.OutputFileHandler(\"Python/TestPythonBuildVesselNetworkLiteratePaper\", True)\n",
    "length_scale = 1.e-6*metre()\n",
    "length = 100.0\n",
    "n1 = microvessel_chaste.population.vessel.VesselNode3(0.0, 0.0 ,0.0, length_scale)\n",
    "n2 = microvessel_chaste.population.vessel.VesselNode3(length, 0.0, 0.0, length_scale)\n",
    "n3 = microvessel_chaste.population.vessel.VesselNode3(2.0 * length, length, 0.0, length_scale)\n",
    "n4 = microvessel_chaste.population.vessel.VesselNode3(2.0 * length, -length, 0.0, length_scale)"
   ]
  },
  {
   "cell_type": "markdown",
   "metadata": {},
   "source": [
    "Next we make vessel segments and vessels. Vessel segments are straight-line features\n",
    "which contain a vascular node at each end. Vessels can be constructed from multiple vessel segments,\n",
    "but in this case each vessel just has a single segment.\n",
    "\n"
   ]
  },
  {
   "cell_type": "code",
   "execution_count": null,
   "metadata": {},
   "outputs": [],
   "source": [
    "v1 = microvessel_chaste.population.vessel.Vessel3([n1 ,n2])\n",
    "v2 = microvessel_chaste.population.vessel.Vessel3([n2, n3])\n",
    "v3 = microvessel_chaste.population.vessel.Vessel3([n2, n4])"
   ]
  },
  {
   "cell_type": "markdown",
   "metadata": {},
   "source": [
    "Now we can add our vessels to a vessel network.\n",
    "\n"
   ]
  },
  {
   "cell_type": "code",
   "execution_count": null,
   "metadata": {},
   "outputs": [],
   "source": [
    "network = microvessel_chaste.population.vessel.VesselNetwork3.Create()\n",
    "network.AddVessel(v1)\n",
    "network.AddVessel(v2)\n",
    "network.AddVessel(v3)\n",
    "network.SetSegmentRadii(10.0*length_scale)\n",
    "network.SetNodeRadii(10.0*length_scale)"
   ]
  },
  {
   "cell_type": "markdown",
   "metadata": {},
   "source": [
    "We can visualize the network\n",
    "\n"
   ]
  },
  {
   "cell_type": "code",
   "execution_count": null,
   "metadata": {},
   "outputs": [],
   "source": [
    "scene = microvessel_chaste.visualization.MicrovesselVtkScene3()\n",
    "scene.SetVesselNetwork(network)\n",
    "nb_manager = microvessel_chaste.visualization.JupyterNotebookManager()\n",
    "nb_manager.vtk_show(scene, height=600)"
   ]
  },
  {
   "cell_type": "markdown",
   "metadata": {},
   "source": [
    "Next we write out network to file. We use the Chaste `OutputFileHandler` functionality to manage\n",
    "the output location. Networks are written using VTKs PolyData format, which should have a .vtp extension.\n",
    "\n"
   ]
  },
  {
   "cell_type": "code",
   "execution_count": null,
   "metadata": {},
   "outputs": [],
   "source": [
    "writer = microvessel_chaste.population.vessel.VesselNetworkWriter3()\n",
    "writer.SetVesselNetwork(network)\n",
    "writer.SetFileName(file_handler.GetOutputDirectoryFullPath() + \"bifurcating_network.vtp\")\n",
    "writer.Write()"
   ]
  },
  {
   "cell_type": "markdown",
   "metadata": {},
   "source": [
    "We can visualize then network in Paraview.\n",
    "\n",
    "## Test 2 - Building a vessel network with a generator\n",
    "In the first test we manually built a network from its components. This is tedious. We can use a generator\n",
    "instead.\n",
    "\n"
   ]
  },
  {
   "cell_type": "markdown",
   "metadata": {},
   "source": [
    "Create a hexagonal network in 3D space using a generator. Specify the target network\n",
    "width and height and the desired vessel length. The use of dimensional analysis is demonstrated\n",
    "by now using a fictitious 'cell width' reference length unit instead of microns.\n",
    "\n"
   ]
  },
  {
   "cell_type": "code",
   "execution_count": null,
   "metadata": {},
   "outputs": [],
   "source": [
    "file_handler = chaste.core.OutputFileHandler(\"Python/TestPythonBuildVesselNetworkLiteratePaperGenerator\", True)\n",
    "cell_width = 25.e-6 * metre()\n",
    "BaseUnits.Instance().SetReferenceLengthScale(cell_width)\n",
    "target_width = 60.0 * cell_width\n",
    "target_height = 30.0 * cell_width\n",
    "vessel_length = 4.0 * cell_width\n",
    "network_generator = microvessel_chaste.population.vessel.VesselNetworkGenerator3()\n",
    "network = network_generator.GenerateHexagonalNetwork(target_width, target_height, vessel_length)"
   ]
  },
  {
   "cell_type": "markdown",
   "metadata": {},
   "source": [
    "We can visualize the network\n",
    "\n"
   ]
  },
  {
   "cell_type": "code",
   "execution_count": null,
   "metadata": {},
   "outputs": [],
   "source": [
    "scene = microvessel_chaste.visualization.MicrovesselVtkScene3()\n",
    "scene.SetVesselNetwork(network)\n",
    "nb_manager.vtk_show(scene, height=600)"
   ]
  },
  {
   "cell_type": "markdown",
   "metadata": {},
   "source": [
    "We write the network to file as before. We want to over-ride the\n",
    "reference length scale so that the output is written in micron.\n",
    "\n"
   ]
  },
  {
   "cell_type": "code",
   "execution_count": null,
   "metadata": {},
   "outputs": [],
   "source": [
    "writer = microvessel_chaste.population.vessel.VesselNetworkWriter3()\n",
    "writer.SetFileName(file_handler.GetOutputDirectoryFullPath() + \"hexagonal_network.vtp\")\n",
    "writer.SetVesselNetwork(network)\n",
    "micron_length_scale = 1.e-6 * metre()\n",
    "writer.SetReferenceLengthScale(micron_length_scale)\n",
    "writer.Write()"
   ]
  },
  {
   "cell_type": "markdown",
   "metadata": {},
   "source": [
    "Use a reader to read the network back in from the VTK file. Our network was written in units of micron, so\n",
    "we need to tell the reader this so that locations are suitably stored.\n",
    "\n"
   ]
  },
  {
   "cell_type": "code",
   "execution_count": null,
   "metadata": {},
   "outputs": [],
   "source": [
    "network_reader = microvessel_chaste.population.vessel.VesselNetworkReader3()\n",
    "network_reader.SetReferenceLengthScale(micron_length_scale)\n",
    "network_reader.SetFileName(file_handler.GetOutputDirectoryFullPath() + \"hexagonal_network.vtp\")\n",
    "network_from_file = network_reader.Read()"
   ]
  },
  {
   "cell_type": "markdown",
   "metadata": {},
   "source": [
    "Again, we can visualize the network\n",
    "\n"
   ]
  },
  {
   "cell_type": "code",
   "execution_count": null,
   "metadata": {},
   "outputs": [],
   "source": [
    "scene = microvessel_chaste.visualization.MicrovesselVtkScene3()\n",
    "scene.SetVesselNetwork(network)\n",
    "nb_manager.vtk_show(scene, height=600)"
   ]
  }
 ],
 "metadata": {},
 "nbformat": 4,
 "nbformat_minor": 1
}
