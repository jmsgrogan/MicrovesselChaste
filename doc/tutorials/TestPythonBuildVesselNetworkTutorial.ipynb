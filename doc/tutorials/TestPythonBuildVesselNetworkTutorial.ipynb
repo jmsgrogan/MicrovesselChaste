{
 "cells": [
  {
   "cell_type": "markdown",
   "metadata": {},
   "source": [
    "This tutorial is automatically generated from the file test/python/tutorials//TestPythonBuildVesselNetworkTutorial.py.\n",
    "\n"
   ]
  },
  {
   "cell_type": "code",
   "execution_count": 1,
   "metadata": {
    "collapsed": true
   },
   "outputs": [],
   "source": [
    "# Jupyter notebook specific imports \n",
    "import matplotlib as mpl \n",
    "from IPython import display \n",
    "%matplotlib inline"
   ]
  },
  {
   "cell_type": "markdown",
   "metadata": {},
   "source": [
    "\n",
    "## Introduction\n",
    "This tutorial introduces modelling vessel networks. It will cover the following techniques:\n",
    "\n",
    " * Building a network from a collection of nodes, segments and vessels\n",
    " * Writing networks to file and visualizing it\n",
    " * Building a network using a network generator\n",
    " \n",
    "## The Test\n",
    "\n"
   ]
  },
  {
   "cell_type": "code",
   "execution_count": 2,
   "metadata": {
    "collapsed": true
   },
   "outputs": [],
   "source": [
    "import chaste # Core Chaste functionality\n",
    "import microvessel_chaste.geometry # Core Microvessel Chaste functionality\n",
    "import microvessel_chaste.population.vessel # Vessel tools\n",
    "import microvessel_chaste.visualization # Visualization\n",
    "from microvessel_chaste.utility import * # Dimensional analysis: bring in all units for convenience"
   ]
  },
  {
   "cell_type": "markdown",
   "metadata": {},
   "source": [
    "## Test 1 - Building a vessel network manually, writing it to file and visualizing it\n",
    "In the first test we will build a vessel network from its constituent components; nodes,\n",
    "segments and vessels. We will do some simple tests to make sure the network has been formed\n",
    "as expected. Then we write the network to file and visualize it.\n",
    "\n"
   ]
  },
  {
   "cell_type": "markdown",
   "metadata": {},
   "source": [
    "First we make some nodes, which are point features from which vessels can be constructed.\n",
    "They are initialized with a location. Vessel network components are specialized (templated)\n",
    "over spatial dimension, and can be 2D or 3D. We will create a Y shaped network.\n",
    "Later we will learn how to build up networks in a more efficient manner. Note that we\n",
    "are being explicit regarding units, setting a length scale of 1 micron.\n",
    "\n"
   ]
  },
  {
   "cell_type": "code",
   "execution_count": 3,
   "metadata": {
    "collapsed": true
   },
   "outputs": [],
   "source": [
    "file_handler = chaste.core.OutputFileHandler(\"Python/TestPythonBuildVesselNetworkLiteratePaper\", True)\n",
    "length = 100.0e-6*metres\n",
    "n1 = microvessel_chaste.population.vessel.VesselNode3.Create(0.0*length)\n",
    "n2 = microvessel_chaste.population.vessel.VesselNode3.Create(length)\n",
    "n3 = microvessel_chaste.population.vessel.VesselNode3.Create(2.0 * length, length)\n",
    "n4 = microvessel_chaste.population.vessel.VesselNode3.Create(2.0 * length, -1.0*length)"
   ]
  },
  {
   "cell_type": "markdown",
   "metadata": {},
   "source": [
    "Next we make vessel segments and vessels. Vessel segments are straight-line features\n",
    "which contain a vascular node at each end. Vessels can be constructed from multiple vessel segments,\n",
    "but in this case each vessel just has a single segment.\n",
    "\n"
   ]
  },
  {
   "cell_type": "code",
   "execution_count": 4,
   "metadata": {
    "collapsed": true
   },
   "outputs": [],
   "source": [
    "v1 = microvessel_chaste.population.vessel.Vessel3.Create([n1 ,n2])\n",
    "v2 = microvessel_chaste.population.vessel.Vessel3.Create([n2, n3])\n",
    "v3 = microvessel_chaste.population.vessel.Vessel3.Create([n2, n4])"
   ]
  },
  {
   "cell_type": "markdown",
   "metadata": {},
   "source": [
    "Now we can add our vessels to a vessel network.\n",
    "\n"
   ]
  },
  {
   "cell_type": "code",
   "execution_count": 5,
   "metadata": {
    "collapsed": true
   },
   "outputs": [],
   "source": [
    "network = microvessel_chaste.population.vessel.VesselNetwork3.Create()\n",
    "network.AddVessel(v1)\n",
    "network.AddVessel(v2)\n",
    "network.AddVessel(v3)\n",
    "property_manager = microvessel_chaste.population.vessel.VesselNetworkPropertyManager3()\n",
    "property_manager.SetSegmentRadii(network, 10.0e-6*metres)\n",
    "property_manager.SetNodeRadii(network, 10.0e-6*metres)"
   ]
  },
  {
   "cell_type": "markdown",
   "metadata": {},
   "source": [
    "We can visualize the network\n",
    "\n"
   ]
  },
  {
   "cell_type": "code",
   "execution_count": 6,
   "metadata": {},
   "outputs": [
    {
     "ename": "TypeError",
     "evalue": "Unable to convert function return value to a Python type! The signature was\n\t(self: microvessel_chaste.visualization._chaste_project_MicrovesselChaste_visualization.MicrovesselVtkScene3) -> vtkSmartPointer<vtkRenderer>",
     "output_type": "error",
     "traceback": [
      "\u001b[0;31m---------------------------------------------------------------------------\u001b[0m",
      "\u001b[0;31mTypeError\u001b[0m                                 Traceback (most recent call last)",
      "\u001b[0;32m<ipython-input-6-4845e3461764>\u001b[0m in \u001b[0;36m<module>\u001b[0;34m()\u001b[0m\n\u001b[1;32m      2\u001b[0m \u001b[0mscene\u001b[0m\u001b[0;34m.\u001b[0m\u001b[0mSetVesselNetwork\u001b[0m\u001b[0;34m(\u001b[0m\u001b[0mnetwork\u001b[0m\u001b[0;34m)\u001b[0m\u001b[0;34m\u001b[0m\u001b[0m\n\u001b[1;32m      3\u001b[0m \u001b[0mnb_manager\u001b[0m \u001b[0;34m=\u001b[0m \u001b[0mmicrovessel_chaste\u001b[0m\u001b[0;34m.\u001b[0m\u001b[0mvisualization\u001b[0m\u001b[0;34m.\u001b[0m\u001b[0mJupyterNotebookManager\u001b[0m\u001b[0;34m(\u001b[0m\u001b[0;34m)\u001b[0m\u001b[0;34m\u001b[0m\u001b[0m\n\u001b[0;32m----> 4\u001b[0;31m \u001b[0mnb_manager\u001b[0m\u001b[0;34m.\u001b[0m\u001b[0mvtk_show\u001b[0m\u001b[0;34m(\u001b[0m\u001b[0mscene\u001b[0m\u001b[0;34m,\u001b[0m \u001b[0mheight\u001b[0m\u001b[0;34m=\u001b[0m\u001b[0;36m600\u001b[0m\u001b[0;34m,\u001b[0m \u001b[0mwidth\u001b[0m \u001b[0;34m=\u001b[0m \u001b[0;36m1000\u001b[0m\u001b[0;34m)\u001b[0m\u001b[0;34m\u001b[0m\u001b[0m\n\u001b[0m",
      "\u001b[0;32m/scratch/jgrogan/Software/MicrovesselChaste/src/python/microvessel_chaste/visualization/fortests.pyc\u001b[0m in \u001b[0;36mvtk_show\u001b[0;34m(self, scene, width, height, output_format, increment)\u001b[0m\n\u001b[1;32m    158\u001b[0m                 \u001b[0mrenderWindow\u001b[0m \u001b[0;34m=\u001b[0m \u001b[0mvtk\u001b[0m\u001b[0;34m.\u001b[0m\u001b[0mvtkRenderWindow\u001b[0m\u001b[0;34m(\u001b[0m\u001b[0;34m)\u001b[0m\u001b[0;34m\u001b[0m\u001b[0m\n\u001b[1;32m    159\u001b[0m                 \u001b[0mrenderWindow\u001b[0m\u001b[0;34m.\u001b[0m\u001b[0mSetOffScreenRendering\u001b[0m\u001b[0;34m(\u001b[0m\u001b[0;36m1\u001b[0m\u001b[0;34m)\u001b[0m\u001b[0;34m\u001b[0m\u001b[0m\n\u001b[0;32m--> 160\u001b[0;31m                 \u001b[0mrenderWindow\u001b[0m\u001b[0;34m.\u001b[0m\u001b[0mAddRenderer\u001b[0m\u001b[0;34m(\u001b[0m\u001b[0mscene\u001b[0m\u001b[0;34m.\u001b[0m\u001b[0mGetRenderer\u001b[0m\u001b[0;34m(\u001b[0m\u001b[0;34m)\u001b[0m\u001b[0;34m)\u001b[0m\u001b[0;34m\u001b[0m\u001b[0m\n\u001b[0m\u001b[1;32m    161\u001b[0m                 \u001b[0mrenderWindow\u001b[0m\u001b[0;34m.\u001b[0m\u001b[0mSetSize\u001b[0m\u001b[0;34m(\u001b[0m\u001b[0mwidth\u001b[0m\u001b[0;34m,\u001b[0m \u001b[0mheight\u001b[0m\u001b[0;34m)\u001b[0m\u001b[0;34m\u001b[0m\u001b[0m\n\u001b[1;32m    162\u001b[0m                 \u001b[0mrenderWindow\u001b[0m\u001b[0;34m.\u001b[0m\u001b[0mRender\u001b[0m\u001b[0;34m(\u001b[0m\u001b[0;34m)\u001b[0m\u001b[0;34m\u001b[0m\u001b[0m\n",
      "\u001b[0;31mTypeError\u001b[0m: Unable to convert function return value to a Python type! The signature was\n\t(self: microvessel_chaste.visualization._chaste_project_MicrovesselChaste_visualization.MicrovesselVtkScene3) -> vtkSmartPointer<vtkRenderer>"
     ]
    }
   ],
   "source": [
    "scene = microvessel_chaste.visualization.MicrovesselVtkScene3()\n",
    "scene.SetVesselNetwork(network)\n",
    "nb_manager = microvessel_chaste.visualization.JupyterNotebookManager()\n",
    "nb_manager.vtk_show(scene, height=600, width = 1000)"
   ]
  },
  {
   "cell_type": "markdown",
   "metadata": {},
   "source": [
    "Next we write out network to file. We use the Chaste `OutputFileHandler` functionality to manage\n",
    "the output location. Networks are written using VTKs PolyData format, which should have a .vtp extension.\n",
    "\n"
   ]
  },
  {
   "cell_type": "code",
   "execution_count": null,
   "metadata": {
    "collapsed": true
   },
   "outputs": [],
   "source": [
    "writer = microvessel_chaste.population.vessel.VesselNetworkWriter3()\n",
    "writer.SetVesselNetwork(network)\n",
    "writer.SetFileName(file_handler.GetOutputDirectoryFullPath() + \"bifurcating_network.vtp\")\n",
    "writer.Write()"
   ]
  },
  {
   "cell_type": "markdown",
   "metadata": {},
   "source": [
    "We can visualize then network in Paraview.\n",
    "\n",
    "## Test 2 - Building a vessel network with a generator\n",
    "In the first test we manually built a network from its components. This is tedious. We can use a generator\n",
    "instead.\n",
    "\n"
   ]
  },
  {
   "cell_type": "markdown",
   "metadata": {},
   "source": [
    "Create a hexagonal network in 3D space using a generator. Specify the target network\n",
    "width and height and the desired vessel length. The use of dimensional analysis is demonstrated\n",
    "by now using a fictitious 'cell width' reference length unit instead of microns.\n",
    "\n"
   ]
  },
  {
   "cell_type": "code",
   "execution_count": null,
   "metadata": {
    "collapsed": true
   },
   "outputs": [],
   "source": [
    "file_handler = chaste.core.OutputFileHandler(\"Python/TestPythonBuildVesselNetworkLiteratePaperGenerator\", True)\n",
    "cell_width = 25.e-6 * metres\n",
    "BaseUnits.Instance().SetReferenceLengthScale(cell_width)\n",
    "target_width = 60.0 * cell_width\n",
    "target_height = 30.0 * cell_width\n",
    "vessel_length = 4.0 * cell_width\n",
    "network_generator = microvessel_chaste.population.vessel.VesselNetworkGenerator3()\n",
    "network = network_generator.GenerateHexagonalNetwork(target_width, target_height, vessel_length)"
   ]
  },
  {
   "cell_type": "markdown",
   "metadata": {},
   "source": [
    "We can visualize the network\n",
    "\n"
   ]
  },
  {
   "cell_type": "code",
   "execution_count": null,
   "metadata": {
    "collapsed": true
   },
   "outputs": [],
   "source": [
    "scene = microvessel_chaste.visualization.MicrovesselVtkScene3()\n",
    "scene.SetVesselNetwork(network)\n",
    "nb_manager.vtk_show(scene, height=600, width = 1000)"
   ]
  },
  {
   "cell_type": "markdown",
   "metadata": {},
   "source": [
    "We write the network to file as before. We want to over-ride the\n",
    "reference length scale so that the output is written in micron.\n",
    "\n"
   ]
  },
  {
   "cell_type": "code",
   "execution_count": null,
   "metadata": {
    "collapsed": true
   },
   "outputs": [],
   "source": [
    "writer = microvessel_chaste.population.vessel.VesselNetworkWriter3()\n",
    "writer.SetFileName(file_handler.GetOutputDirectoryFullPath() + \"hexagonal_network.vtp\")\n",
    "writer.SetVesselNetwork(network)\n",
    "micron_length_scale = 1.e-6 * metres\n",
    "writer.SetReferenceLengthScale(micron_length_scale)\n",
    "writer.Write()"
   ]
  },
  {
   "cell_type": "markdown",
   "metadata": {},
   "source": [
    "Use a reader to read the network back in from the VTK file. Our network was written in units of micron, so\n",
    "we need to tell the reader this so that locations are suitably stored.\n",
    "\n"
   ]
  },
  {
   "cell_type": "code",
   "execution_count": null,
   "metadata": {
    "collapsed": true
   },
   "outputs": [],
   "source": [
    "network_reader = microvessel_chaste.population.vessel.VesselNetworkReader3()\n",
    "network_reader.SetReferenceLengthScale(micron_length_scale)\n",
    "network_reader.SetFileName(file_handler.GetOutputDirectoryFullPath() + \"hexagonal_network.vtp\")\n",
    "network_from_file = network_reader.Read()"
   ]
  },
  {
   "cell_type": "markdown",
   "metadata": {},
   "source": [
    "Again, we can visualize the network\n",
    "\n"
   ]
  },
  {
   "cell_type": "code",
   "execution_count": null,
   "metadata": {
    "collapsed": true
   },
   "outputs": [],
   "source": [
    "scene = microvessel_chaste.visualization.MicrovesselVtkScene3()\n",
    "scene.SetVesselNetwork(network)\n",
    "nb_manager.vtk_show(scene, height=600, width = 1000)"
   ]
  }
 ],
 "metadata": {
  "kernelspec": {
   "display_name": "Python 2",
   "language": "python",
   "name": "python2"
  },
  "language_info": {
   "codemirror_mode": {
    "name": "ipython",
    "version": 2
   },
   "file_extension": ".py",
   "mimetype": "text/x-python",
   "name": "python",
   "nbconvert_exporter": "python",
   "pygments_lexer": "ipython2",
   "version": "2.7.12"
  }
 },
 "nbformat": 4,
 "nbformat_minor": 2
}
