{
 "cells": [
  {
   "cell_type": "markdown",
   "metadata": {},
   "source": [
    "This tutorial is automatically generated from the file test/python/tutorials//TestPythonLatticeBasedAngiogenesisTutorial.py.\n",
    "\n"
   ]
  },
  {
   "cell_type": "code",
   "execution_count": null,
   "metadata": {},
   "outputs": [],
   "source": [
    "# Jupyter notebook specific imports \n",
    "import matplotlib as mpl \n",
    "from IPython import display \n",
    "%matplotlib inline"
   ]
  },
  {
   "cell_type": "markdown",
   "metadata": {},
   "source": [
    "\n",
    "# A Lattice Based Angiogenesis Tutorial\n",
    "This tutorial introduces a lattice based angiogenesis problem based on a simplified version of the\n",
    "vascular tumour application described in\n",
    "[Owen et al. 2011](http://www.ncbi.nlm.nih.gov/pubmed/21363914).\n",
    "\n",
    "It is a 2D simulation using cellular automaton\n",
    "for cells, a regular grid for vessel movement and the same grid for the solution of\n",
    "partial differential equations for oxygen and VEGF transport using the finite difference method.\n",
    "\n",
    "## The Test\n",
    "\n"
   ]
  },
  {
   "cell_type": "code",
   "execution_count": null,
   "metadata": {},
   "outputs": [],
   "source": [
    "import chaste # Core Chaste functionality\n",
    "import chaste.cell_based # Chaste Cell Populations\n",
    "chaste.init() # Initialize MPI and PETSc\n",
    "import microvessel_chaste # Core Microvessel Chaste functionality\n",
    "import microvessel_chaste.geometry # Geometry tools\n",
    "import microvessel_chaste.mesh # Meshing\n",
    "import microvessel_chaste.population.vessel # Vessel tools\n",
    "import microvessel_chaste.pde # PDE and solvers\n",
    "import microvessel_chaste.simulation # Flow and angiogenesis solvers\n",
    "import microvessel_chaste.visualization # Visualization\n",
    "from microvessel_chaste.utility import * # Dimensional analysis: bring in all units for convenience\n",
    "# Set up the test \n",
    "chaste.cell_based.SetupNotebookTest()"
   ]
  },
  {
   "cell_type": "markdown",
   "metadata": {},
   "source": [
    "Set up output file management and seed the random number generator.\n",
    "\n"
   ]
  },
  {
   "cell_type": "code",
   "execution_count": null,
   "metadata": {},
   "outputs": [],
   "source": [
    "file_handler = chaste.core.OutputFileHandler(\"Python/TestLatticeBasedAngiogenesisTutorial\")\n",
    "chaste.core.RandomNumberGenerator.Instance().Reseed(12345)"
   ]
  },
  {
   "cell_type": "markdown",
   "metadata": {},
   "source": [
    "This component uses explicit dimensions for all quantities, but interfaces with solvers which take\n",
    "non-dimensional inputs. The `BaseUnits` singleton takes time, length and mass reference scales to\n",
    "allow non-dimensionalisation when sending quantities to external solvers and re-dimensionalisation of\n",
    "results. For our purposes microns for length and hours for time are suitable base units.\n",
    "\n"
   ]
  },
  {
   "cell_type": "code",
   "execution_count": null,
   "metadata": {},
   "outputs": [],
   "source": [
    "reference_length = 1.e-6 * metre()\n",
    "reference_time = 3600.0 * second()\n",
    "BaseUnits.Instance().SetReferenceLengthScale(reference_length)\n",
    "BaseUnits.Instance().SetReferenceTimeScale(reference_time)"
   ]
  },
  {
   "cell_type": "markdown",
   "metadata": {},
   "source": [
    "Set up the lattice (grid), we will use the same dimensions as [Owen et al. 2011](http://www.ncbi.nlm.nih.gov/pubmed/21363914).\n",
    "Note that we are using hard-coded parameters from that paper. You can see the values by printing.\n",
    "When we get the value of the parameter by doing\n",
    "`Owen11Parameters.mpLatticeSpacing.GetValue(\"User\")` a record is kept that this parameter has been used\n",
    "in the simulation. A record of all parameters used in a simulation can be dumped to file on completion,\n",
    "as will be shown below.\n",
    "\n"
   ]
  },
  {
   "cell_type": "code",
   "execution_count": null,
   "metadata": {},
   "outputs": [],
   "source": [
    "grid = microvessel_chaste.mesh.RegularGrid2()\n",
    "grid_spacing = Owen11Parameters.mpLatticeSpacing.GetValue(\"User\")\n",
    "grid.SetSpacing(grid_spacing)\n",
    "grid.SetExtents([51, 51, 1])"
   ]
  },
  {
   "cell_type": "markdown",
   "metadata": {},
   "source": [
    "We can write and visualize the grid.\n",
    "\n"
   ]
  },
  {
   "cell_type": "code",
   "execution_count": null,
   "metadata": {},
   "outputs": [],
   "source": [
    "grid.Write(file_handler)\n",
    "scene = microvessel_chaste.visualization.MicrovesselVtkScene2()\n",
    "scene.SetIsInteractive(True)\n",
    "scene.SetRegularGrid(grid)\n",
    "scene.GetRegularGridActorGenerator().SetVolumeOpacity(0.1)\n",
    "nb_manager = microvessel_chaste.visualization.JupyterNotebookManager()\n",
    "nb_manager.vtk_show(scene, height=600)"
   ]
  },
  {
   "cell_type": "markdown",
   "metadata": {},
   "source": [
    "Next, set up the vessel network, this will initially consist of two, large counter-flowing vessels. Also set the inlet\n",
    "and outlet pressures and flags.\n",
    "\n"
   ]
  },
  {
   "cell_type": "code",
   "execution_count": null,
   "metadata": {},
   "outputs": [],
   "source": [
    "node1 = microvessel_chaste.population.vessel.VesselNode2.Create(0.0, 400.0, 0.0, reference_length)\n",
    "node2 = microvessel_chaste.population.vessel.VesselNode2.Create(2000.0, 400.0, 0.0, reference_length)\n",
    "node1.GetFlowProperties().SetIsInputNode(True)\n",
    "node1.GetFlowProperties().SetPressure(Owen11Parameters.mpInletPressure.GetValue(\"User\"))\n",
    "node2.GetFlowProperties().SetIsOutputNode(True);\n",
    "node2.GetFlowProperties().SetPressure(Owen11Parameters.mpOutletPressure.GetValue(\"User\"))\n",
    "node3 = microvessel_chaste.population.vessel.VesselNode2.Create(2000.0, 1600.0, 0.0, reference_length)\n",
    "node4 = microvessel_chaste.population.vessel.VesselNode2.Create(0.0, 1600.0, 0.0, reference_length)\n",
    "node3.GetFlowProperties().SetIsInputNode(True)\n",
    "node3.GetFlowProperties().SetPressure(Owen11Parameters.mpInletPressure.GetValue(\"User\"))\n",
    "node4.GetFlowProperties().SetIsOutputNode(True)\n",
    "node4.GetFlowProperties().SetPressure(Owen11Parameters.mpOutletPressure.GetValue(\"User\"))\n",
    "vessel1 = microvessel_chaste.population.vessel.Vessel2.Create(node1, node2)\n",
    "vessel2 = microvessel_chaste.population.vessel.Vessel2.Create(node3, node4)\n",
    "network = microvessel_chaste.population.vessel.VesselNetwork2.Create()\n",
    "network.AddVessel(vessel1)\n",
    "network.AddVessel(vessel2)"
   ]
  },
  {
   "cell_type": "markdown",
   "metadata": {},
   "source": [
    "Again, we can visualize and write the network\n",
    "\n"
   ]
  },
  {
   "cell_type": "code",
   "execution_count": null,
   "metadata": {},
   "outputs": [],
   "source": [
    "scene.SetVesselNetwork(network)\n",
    "scene.GetVesselNetworkActorGenerator().SetEdgeSize(20.0)\n",
    "network.Write(file_handler.GetOutputDirectoryFullPath() + \"initial_network.vtp\")\n",
    "nb_manager.vtk_show(scene, height=600)"
   ]
  },
  {
   "cell_type": "markdown",
   "metadata": {},
   "source": [
    "Next, set up the cell populations. We will setup up a population similar to that used in\n",
    "the Owen et al., 2011 paper. That is, a grid filled with normal cells and a tumour spheroid\n",
    "in the middle. We can use a generator for this purpose. The generator simply sets up\n",
    "the population using conventional Cell Based Chaste methods.\n",
    "\n"
   ]
  },
  {
   "cell_type": "code",
   "execution_count": null,
   "metadata": {},
   "outputs": [],
   "source": [
    "cell_population_genenerator = microvessel_chaste.population.cell.Owen11CellPopulationGenerator2()\n",
    "cell_population_genenerator.SetRegularGrid(grid)\n",
    "cell_population_genenerator.SetVesselNetwork(network)\n",
    "tumour_radius = 300.0 * 1.e-6 * metre()\n",
    "cell_population_genenerator.SetTumourRadius(tumour_radius)\n",
    "cell_population = cell_population_genenerator.Update()"
   ]
  },
  {
   "cell_type": "markdown",
   "metadata": {},
   "source": [
    "Again, we visualize. First turn off the grid edges so it is easier to see the cells.\n",
    "\n"
   ]
  },
  {
   "cell_type": "code",
   "execution_count": null,
   "metadata": {},
   "outputs": [],
   "source": [
    "scene.GetRegularGridActorGenerator().SetShowEdges(False)\n",
    "scene.GetRegularGridActorGenerator().SetVolumeOpacity(0.0)\n",
    "scene.SetCellPopulation(cell_population)\n",
    "scene.GetCellPopulationActorGenerator().GetDiscreteColorTransferFunction().AddRGBPoint(1.0, 0.0, 0.0, 0.6)\n",
    "scene.GetCellPopulationActorGenerator().SetPointSize(20)\n",
    "scene.GetCellPopulationActorGenerator().SetColorByCellMutationState(True)\n",
    "scene.ResetRenderer()\n",
    "nb_manager.vtk_show(scene, height=600)"
   ]
  },
  {
   "cell_type": "markdown",
   "metadata": {},
   "source": [
    "Next set up the PDEs for oxygen and VEGF. Cells will act as discrete oxygen sinks and discrete vegf sources.\n",
    "\n"
   ]
  },
  {
   "cell_type": "code",
   "execution_count": null,
   "metadata": {},
   "outputs": [],
   "source": [
    "oxygen_pde = microvessel_chaste.pde.LinearSteadyStateDiffusionReactionPde2_2()\n",
    "oxygen_pde.SetIsotropicDiffusionConstant(Owen11Parameters.mpOxygenDiffusivity.GetValue(\"User\"))\n",
    "cell_oxygen_sink = microvessel_chaste.pde.CellBasedDiscreteSource2()\n",
    "cell_oxygen_sink.SetLinearInUConsumptionRatePerCell(Owen11Parameters.mpCellOxygenConsumptionRate.GetValue(\"User\"))\n",
    "oxygen_pde.AddDiscreteSource(cell_oxygen_sink)"
   ]
  },
  {
   "cell_type": "markdown",
   "metadata": {},
   "source": [
    "Vessels release oxygen depending on their haematocrit levels\n",
    "\n"
   ]
  },
  {
   "cell_type": "code",
   "execution_count": null,
   "metadata": {},
   "outputs": [],
   "source": [
    "vessel_oxygen_source = microvessel_chaste.pde.VesselBasedDiscreteSource2()\n",
    "#oxygen_solubility_at_stp = Secomb04Parameters.mpOxygenVolumetricSolubility.GetValue(\"User\") * GenericParameters.mpGasConcentrationAtStp.GetValue(\"User\")\n",
    "#vessel_oxygen_concentration = oxygen_solubility_at_stp * Owen11Parameters.mpReferencePartialPressure.GetValue(\"User\")\n",
    "vessel_oxygen_concentration = 0.03 * mole_per_metre_cubed()\n",
    "vessel_oxygen_source.SetReferenceConcentration(vessel_oxygen_concentration)\n",
    "vessel_oxygen_source.SetVesselPermeability(Owen11Parameters.mpVesselOxygenPermeability.GetValue(\"User\"))\n",
    "vessel_oxygen_source.SetReferenceHaematocrit(Owen11Parameters.mpInflowHaematocrit.GetValue(\"User\"))\n",
    "oxygen_pde.AddDiscreteSource(vessel_oxygen_source);"
   ]
  },
  {
   "cell_type": "markdown",
   "metadata": {},
   "source": [
    "Set up a finite difference solver and pass it the pde and grid.\n",
    "\n"
   ]
  },
  {
   "cell_type": "code",
   "execution_count": null,
   "metadata": {},
   "outputs": [],
   "source": [
    "oxygen_solver = microvessel_chaste.pde.FiniteDifferenceSolver2()\n",
    "oxygen_solver.SetPde(oxygen_pde)\n",
    "oxygen_solver.SetLabel(\"oxygen\")\n",
    "oxygen_solver.SetGrid(grid)"
   ]
  },
  {
   "cell_type": "markdown",
   "metadata": {},
   "source": [
    "The rate of VEGF release depends on the cell type and intracellular VEGF levels, so we need a more detailed\n",
    "type of discrete source.\n",
    "\n"
   ]
  },
  {
   "cell_type": "code",
   "execution_count": null,
   "metadata": {},
   "outputs": [],
   "source": [
    "vegf_pde = microvessel_chaste.pde.LinearSteadyStateDiffusionReactionPde2_2()\n",
    "vegf_pde.SetIsotropicDiffusionConstant(Owen11Parameters.mpVegfDiffusivity.GetValue(\"User\"))\n",
    "vegf_pde.SetContinuumLinearInUTerm(-1.0 * Owen11Parameters.mpVegfDecayRate.GetValue(\"User\"))"
   ]
  },
  {
   "cell_type": "markdown",
   "metadata": {},
   "source": [
    "Set up a map for different release rates depending on cell type. Also include a threshold intracellular\n",
    "VEGF below which there is no release.\n",
    "\n"
   ]
  },
  {
   "cell_type": "code",
   "execution_count": null,
   "metadata": {},
   "outputs": [],
   "source": [
    "normal_and_quiescent_cell_source = microvessel_chaste.pde.CellStateDependentDiscreteSource2()\n",
    "normal_and_quiescent_cell_rates = microvessel_chaste.pde.MapUnsigned_ConcentrationFlowRate()\n",
    "normal_and_quiescent_cell_rate_thresholds = microvessel_chaste.pde.MapUnsigned_Concentration()\n",
    "quiescent_cancer_state = microvessel_chaste.population.cell.QuiescentCancerCellMutationState()\n",
    "normal_cell_state = chaste.cell_based.WildTypeCellMutationState()\n",
    "normal_and_quiescent_cell_rates[normal_cell_state.GetColour()] = Owen11Parameters.mpCellVegfSecretionRate.GetValue(\"User\")\n",
    "normal_and_quiescent_cell_rate_thresholds[normal_cell_state.GetColour()] = 0.27*mole_per_metre_cubed()\n",
    "normal_and_quiescent_cell_rates[quiescent_cancer_state.GetColour()] = Owen11Parameters.mpCellVegfSecretionRate.GetValue(\"User\")\n",
    "normal_and_quiescent_cell_rate_thresholds[quiescent_cancer_state.GetColour()] = 0.0*mole_per_metre_cubed()\n",
    "normal_and_quiescent_cell_source.SetStateRateMap(normal_and_quiescent_cell_rates)\n",
    "normal_and_quiescent_cell_source.SetLabelName(\"VEGF\")\n",
    "normal_and_quiescent_cell_source.SetStateRateThresholdMap(normal_and_quiescent_cell_rate_thresholds)\n",
    "vegf_pde.AddDiscreteSource(normal_and_quiescent_cell_source)"
   ]
  },
  {
   "cell_type": "markdown",
   "metadata": {},
   "source": [
    "Add a vessel related VEGF sink\n",
    "\n"
   ]
  },
  {
   "cell_type": "code",
   "execution_count": null,
   "metadata": {},
   "outputs": [],
   "source": [
    "vessel_vegf_sink = microvessel_chaste.pde.VesselBasedDiscreteSource2()\n",
    "vessel_vegf_sink.SetReferenceConcentration(0.0*mole_per_metre_cubed())\n",
    "vessel_vegf_sink.SetVesselPermeability(Owen11Parameters.mpVesselVegfPermeability.GetValue(\"User\"))\n",
    "vegf_pde.AddDiscreteSource(vessel_vegf_sink)"
   ]
  },
  {
   "cell_type": "markdown",
   "metadata": {},
   "source": [
    "Set up a finite difference solver as before.\n",
    "\n"
   ]
  },
  {
   "cell_type": "code",
   "execution_count": null,
   "metadata": {},
   "outputs": [],
   "source": [
    "vegf_solver = microvessel_chaste.pde.FiniteDifferenceSolver2()\n",
    "vegf_solver.SetPde(vegf_pde)\n",
    "vegf_solver.SetLabel(\"VEGF_Extracellular\")\n",
    "vegf_solver.SetGrid(grid)"
   ]
  },
  {
   "cell_type": "markdown",
   "metadata": {},
   "source": [
    "Next set up the flow problem. Assign a blood plasma viscosity to the vessels. The actual viscosity will\n",
    "depend on haematocrit and diameter. This solver manages growth and shrinkage of vessels in response to\n",
    "flow related stimuli.\n",
    "\n"
   ]
  },
  {
   "cell_type": "code",
   "execution_count": null,
   "metadata": {},
   "outputs": [],
   "source": [
    "large_vessel_radius = 25.0e-6 * metre()\n",
    "network.SetSegmentRadii(large_vessel_radius)\n",
    "viscosity = Owen11Parameters.mpPlasmaViscosity.GetValue(\"User\")\n",
    "network.SetSegmentViscosity(viscosity);"
   ]
  },
  {
   "cell_type": "markdown",
   "metadata": {},
   "source": [
    "Set up the pre- and post flow calculators.\n",
    "\n"
   ]
  },
  {
   "cell_type": "code",
   "execution_count": null,
   "metadata": {},
   "outputs": [],
   "source": [
    "impedance_calculator = microvessel_chaste.simulation.VesselImpedanceCalculator2()\n",
    "haematocrit_calculator = microvessel_chaste.simulation.ConstantHaematocritSolver2()\n",
    "haematocrit_calculator.SetHaematocrit(Owen11Parameters.mpInflowHaematocrit.GetValue(\"User\"))\n",
    "wss_calculator = microvessel_chaste.simulation.WallShearStressCalculator2()\n",
    "mech_stimulus_calculator = microvessel_chaste.simulation.MechanicalStimulusCalculator2()\n",
    "metabolic_stim_calculator = microvessel_chaste.simulation.MetabolicStimulusCalculator2()\n",
    "shrinking_stimulus_calculator = microvessel_chaste.simulation.ShrinkingStimulusCalculator2()\n",
    "viscosity_calculator = microvessel_chaste.simulation.ViscosityCalculator2()"
   ]
  },
  {
   "cell_type": "markdown",
   "metadata": {},
   "source": [
    "Set up and configure the structural adaptation solver.\n",
    "\n"
   ]
  },
  {
   "cell_type": "code",
   "execution_count": null,
   "metadata": {},
   "outputs": [],
   "source": [
    "structural_adaptation_solver = microvessel_chaste.simulation.StructuralAdaptationSolver2()\n",
    "structural_adaptation_solver.SetTolerance(0.0001)\n",
    "structural_adaptation_solver.SetMaxIterations(100)\n",
    "structural_adaptation_solver.SetTimeIncrement(Owen11Parameters.mpVesselRadiusUpdateTimestep.GetValue(\"User\"));\n",
    "structural_adaptation_solver.AddPreFlowSolveCalculator(impedance_calculator)\n",
    "structural_adaptation_solver.AddPostFlowSolveCalculator(haematocrit_calculator)\n",
    "structural_adaptation_solver.AddPostFlowSolveCalculator(wss_calculator)\n",
    "structural_adaptation_solver.AddPostFlowSolveCalculator(metabolic_stim_calculator)\n",
    "structural_adaptation_solver.AddPostFlowSolveCalculator(mech_stimulus_calculator)\n",
    "structural_adaptation_solver.AddPostFlowSolveCalculator(viscosity_calculator)"
   ]
  },
  {
   "cell_type": "markdown",
   "metadata": {},
   "source": [
    "Set up a regression solver.\n",
    "\n"
   ]
  },
  {
   "cell_type": "code",
   "execution_count": null,
   "metadata": {},
   "outputs": [],
   "source": [
    "regression_solver = microvessel_chaste.simulation.WallShearStressBasedRegressionSolver2()"
   ]
  },
  {
   "cell_type": "markdown",
   "metadata": {},
   "source": [
    "Set up an angiogenesis solver and add sprouting and migration rules.\n",
    "\n"
   ]
  },
  {
   "cell_type": "code",
   "execution_count": null,
   "metadata": {},
   "outputs": [],
   "source": [
    "angiogenesis_solver = microvessel_chaste.simulation.AngiogenesisSolver2()\n",
    "sprouting_rule = microvessel_chaste.simulation.Owen2011SproutingRule2()\n",
    "migration_rule = microvessel_chaste.simulation.Owen2011MigrationRule2()\n",
    "angiogenesis_solver.SetMigrationRule(migration_rule)\n",
    "angiogenesis_solver.SetSproutingRule(sprouting_rule)\n",
    "sprouting_rule.SetDiscreteContinuumSolver(vegf_solver)\n",
    "migration_rule.SetDiscreteContinuumSolver(vegf_solver)\n",
    "angiogenesis_solver.SetVesselGrid(grid)\n",
    "angiogenesis_solver.SetVesselNetwork(network)"
   ]
  },
  {
   "cell_type": "markdown",
   "metadata": {},
   "source": [
    "The microvessel solver will manage all aspects of the vessel solve.\n",
    "\n"
   ]
  },
  {
   "cell_type": "code",
   "execution_count": null,
   "metadata": {},
   "outputs": [],
   "source": [
    "microvessel_solver = microvessel_chaste.simulation.MicrovesselSolver2()\n",
    "microvessel_solver.SetVesselNetwork(network)\n",
    "microvessel_solver.SetOutputFrequency(5)\n",
    "microvessel_solver.AddDiscreteContinuumSolver(oxygen_solver)\n",
    "microvessel_solver.AddDiscreteContinuumSolver(vegf_solver)\n",
    "microvessel_solver.SetStructuralAdaptationSolver(structural_adaptation_solver)\n",
    "microvessel_solver.SetRegressionSolver(regression_solver)\n",
    "microvessel_solver.SetAngiogenesisSolver(angiogenesis_solver)"
   ]
  },
  {
   "cell_type": "markdown",
   "metadata": {},
   "source": [
    "Set up plotting\n",
    "\n"
   ]
  },
  {
   "cell_type": "code",
   "execution_count": null,
   "metadata": {},
   "outputs": [],
   "source": [
    "#scene.GetCellPopulationActorGenerator().SetColorByCellData(True)\n",
    "#scene.GetCellPopulationActorGenerator().SetDataLabel(\"oxygen\")\n",
    "scene_modifier = microvessel_chaste.visualization.JupyterMicrovesselSceneModifier2(nb_manager)\n",
    "scene_modifier.SetVtkScene(scene)\n",
    "scene_modifier.SetUpdateFrequency(2)\n",
    "microvessel_solver.AddMicrovesselModifier(scene_modifier)"
   ]
  },
  {
   "cell_type": "markdown",
   "metadata": {},
   "source": [
    "The microvessel solution modifier will link the vessel and cell solvers. We need to explicitly tell it\n",
    "which extracellular fields to update based on PDE solutions.\n",
    "\n"
   ]
  },
  {
   "cell_type": "code",
   "execution_count": null,
   "metadata": {},
   "outputs": [],
   "source": [
    "microvessel_modifier = microvessel_chaste.simulation.MicrovesselSimulationModifier2()\n",
    "microvessel_modifier.SetMicrovesselSolver(microvessel_solver)\n",
    "update_labels = microvessel_chaste.simulation.VecString()\n",
    "update_labels.append(\"oxygen\")\n",
    "update_labels.append(\"VEGF_Extracellular\")\n",
    "microvessel_modifier.SetCellDataUpdateLabels(update_labels)"
   ]
  },
  {
   "cell_type": "markdown",
   "metadata": {},
   "source": [
    "The full simulation is run as a typical Cell Based Chaste simulation\n",
    "\n"
   ]
  },
  {
   "cell_type": "code",
   "execution_count": null,
   "metadata": {},
   "outputs": [],
   "source": [
    "simulator = chaste.cell_based.OnLatticeSimulation2(cell_population)\n",
    "simulator.AddSimulationModifier(microvessel_modifier)"
   ]
  },
  {
   "cell_type": "markdown",
   "metadata": {},
   "source": [
    "Add a killer to remove apoptotic cells\n",
    "\n"
   ]
  },
  {
   "cell_type": "code",
   "execution_count": null,
   "metadata": {},
   "outputs": [],
   "source": [
    "apoptotic_cell_killer = chaste.cell_based.ApoptoticCellKiller2(cell_population)\n",
    "simulator.AddCellKiller(apoptotic_cell_killer)"
   ]
  },
  {
   "cell_type": "markdown",
   "metadata": {},
   "source": [
    "Add another modifier for updating cell cycle quantities.\n",
    "\n"
   ]
  },
  {
   "cell_type": "code",
   "execution_count": null,
   "metadata": {},
   "outputs": [],
   "source": [
    "owen11_tracking_modifier = microvessel_chaste.simulation.Owen2011TrackingModifier2()\n",
    "simulator.AddSimulationModifier(owen11_tracking_modifier)"
   ]
  },
  {
   "cell_type": "markdown",
   "metadata": {},
   "source": [
    "Set up the remainder of the simulation\n",
    "\n"
   ]
  },
  {
   "cell_type": "code",
   "execution_count": null,
   "metadata": {},
   "outputs": [],
   "source": [
    "simulator.SetOutputDirectory(\"Python/TestLatticeBasedAngiogenesisLiteratePaper\")\n",
    "simulator.SetSamplingTimestepMultiple(5)\n",
    "simulator.SetDt(0.5)"
   ]
  },
  {
   "cell_type": "markdown",
   "metadata": {},
   "source": [
    "This end time corresponds to roughly 10 minutes run-time on a desktop PC. Increase it or decrease as\n",
    "preferred. The end time used in Owen et al. 2011 is 4800 hours.\n",
    "\n"
   ]
  },
  {
   "cell_type": "code",
   "execution_count": null,
   "metadata": {},
   "outputs": [],
   "source": [
    "simulator.SetEndTime(20.0)"
   ]
  },
  {
   "cell_type": "markdown",
   "metadata": {},
   "source": [
    "Do the solve. A sample solution is shown at the top of this test.\n",
    "\n"
   ]
  },
  {
   "cell_type": "code",
   "execution_count": null,
   "metadata": {},
   "outputs": [],
   "source": [
    "simulator.Solve()"
   ]
  },
  {
   "cell_type": "markdown",
   "metadata": {},
   "source": [
    "Dump the parameters to file for inspection.\n",
    "\n"
   ]
  },
  {
   "cell_type": "code",
   "execution_count": null,
   "metadata": {},
   "outputs": [],
   "source": [
    "ParameterCollection.Instance().DumpToFile(file_handler.GetOutputDirectoryFullPath()+\"parameter_collection.xml\")\n",
    "nb_manager.add_parameter_table(file_handler)\n",
    "# Tear down the test \n",
    "chaste.cell_based.TearDownNotebookTest()"
   ]
  }
 ],
 "metadata": {},
 "nbformat": 4,
 "nbformat_minor": 1
}
