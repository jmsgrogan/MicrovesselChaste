{
 "cells": [
  {
   "cell_type": "markdown",
   "metadata": {},
   "source": [
    "This tutorial is automatically generated from the file test/python/tutorials//TestPythonOffLatticeAngiogenesisLiteratePaper.py.\n",
    "\n"
   ]
  },
  {
   "cell_type": "code",
   "execution_count": null,
   "metadata": {},
   "outputs": [],
   "source": [
    "# Jupyter notebook specific imports \n",
    "import matplotlib as mpl \n",
    "from IPython import display \n",
    "%matplotlib inline"
   ]
  },
  {
   "cell_type": "markdown",
   "metadata": {},
   "source": [
    "\n",
    "# An Off Lattice Angiogenesis Tutorial\n",
    "This tutorial demonstrates functionality for modelling 3D off-lattice angiogenesis in a corneal micro\n",
    "pocket application, similar to that described in [Connor et al. 2015](http://rsif.royalsocietypublishing.org/content/12/110/20150546.abstract).\n",
    "\n",
    "It is a 3D simulation modelling VEGF diffusion and decay from an implanted pellet using finite element methods and\n",
    "lattice-free angiogenesis from a large limbal vessel towards the pellet.\n",
    "\n",
    "# The Test\n",
    "\n"
   ]
  },
  {
   "cell_type": "code",
   "execution_count": null,
   "metadata": {},
   "outputs": [],
   "source": [
    "import numpy as np\n",
    "import chaste # Core Chaste functionality\n",
    "import chaste.cell_based # Chaste Cell Populations\n",
    "chaste.init() # Initialize MPI and PETSc\n",
    "import microvessel_chaste # Core Microvessel Chaste functionality\n",
    "import microvessel_chaste.geometry # Geometry tools\n",
    "import microvessel_chaste.mesh # Meshing\n",
    "import microvessel_chaste.population.vessel # Vessel tools\n",
    "import microvessel_chaste.pde # PDE and solvers\n",
    "import microvessel_chaste.simulation # Flow and angiogenesis solvers\n",
    "import microvessel_chaste.visualization # Visualization\n",
    "from microvessel_chaste.utility import * # Dimensional analysis: bring in all units for convenience\n",
    "# Set up the test \n",
    "chaste.cell_based.SetupNotebookTest()"
   ]
  },
  {
   "cell_type": "markdown",
   "metadata": {},
   "source": [
    "Set up output file management.\n",
    "\n"
   ]
  },
  {
   "cell_type": "code",
   "execution_count": null,
   "metadata": {},
   "outputs": [],
   "source": [
    "file_handler = chaste.core.OutputFileHandler(\"Python/TestOffLatticeAngiogenesisLiteratePaper\")\n",
    "chaste.core.RandomNumberGenerator.Instance().Reseed(12345)"
   ]
  },
  {
   "cell_type": "markdown",
   "metadata": {},
   "source": [
    "This component uses explicit dimensions for all quantities, but interfaces with solvers which take\n",
    "non-dimensional inputs. The `BaseUnits` singleton takes time, length and mass reference scales to\n",
    "allow non-dimensionalisation when sending quantities to external solvers and re-dimensionalisation of\n",
    "results. For our purposes microns for length and hours for time are suitable base units.\n",
    "\n"
   ]
  },
  {
   "cell_type": "code",
   "execution_count": null,
   "metadata": {},
   "outputs": [],
   "source": [
    "reference_length = 1.e-6 * metres\n",
    "reference_time = 3600.0 * seconds\n",
    "reference_concentration = 1.e-9*mole_per_metre_cubed\n",
    "BaseUnits.Instance().SetReferenceLengthScale(reference_length)\n",
    "BaseUnits.Instance().SetReferenceTimeScale(reference_time)\n",
    "BaseUnits.Instance().SetReferenceConcentrationScale(reference_concentration)"
   ]
  },
  {
   "cell_type": "markdown",
   "metadata": {},
   "source": [
    "Set up the domain representing the cornea. This is a thin hemispherical shell. We assume some symmetry to\n",
    "reduce computational expense.\n",
    "\n"
   ]
  },
  {
   "cell_type": "code",
   "execution_count": null,
   "metadata": {},
   "outputs": [],
   "source": [
    "hemisphere_generator = microvessel_chaste.geometry.MappableGridGenerator3()\n",
    "radius = 1400.0e-6*metres\n",
    "thickness = 100.0e-6*metres\n",
    "num_divisions_x = 10\n",
    "num_divisions_y = 10\n",
    "azimuth_angle = 1.0 * np.pi\n",
    "polar_angle = 0.5 * np.pi\n",
    "cornea = hemisphere_generator.GenerateHemisphere(radius,\n",
    "                                                 thickness,\n",
    "                                                 num_divisions_x,\n",
    "                                                 num_divisions_y,\n",
    "                                                 azimuth_angle,\n",
    "                                                 polar_angle)"
   ]
  },
  {
   "cell_type": "markdown",
   "metadata": {},
   "source": [
    "We can visualize the part\n",
    "\n"
   ]
  },
  {
   "cell_type": "code",
   "execution_count": null,
   "metadata": {},
   "outputs": [],
   "source": [
    "scene = microvessel_chaste.visualization.MicrovesselVtkScene3()\n",
    "scene.SetPart(cornea)\n",
    "scene.GetPartActorGenerator().SetVolumeOpacity(0.7)\n",
    "#scene.GetPartActorGenerator().SetVolumeColor((255.0, 255.0, 255.0))\n",
    "nb_manager = microvessel_chaste.visualization.JupyterNotebookManager()\n",
    "nb_manager.vtk_show(scene, height=600, width = 1000)"
   ]
  },
  {
   "cell_type": "markdown",
   "metadata": {},
   "source": [
    "Set up a vessel network, with divisions roughly every 'cell length'. Initially it is straight.\n",
    "We will map it onto the hemisphere.\n",
    "\n"
   ]
  },
  {
   "cell_type": "code",
   "execution_count": null,
   "metadata": {},
   "outputs": [],
   "source": [
    "network_generator = microvessel_chaste.population.vessel.VesselNetworkGenerator3()\n",
    "vessel_length = np.pi * radius\n",
    "cell_length = 40.0e-6 * metres\n",
    "origin = microvessel_chaste.geometry.Vertex3(0.0*metres, 4000.0e-6*metres)\n",
    "scaled_vessel_length = vessel_length.Convert(cell_length)\n",
    "network  = network_generator.GenerateSingleVessel(vessel_length, origin, int(scaled_vessel_length) + 1, 0)\n",
    "network.GetNode(0).GetFlowProperties().SetIsInputNode(True);\n",
    "#network.GetNode(0).GetFlowProperties().SetPressure(Owen11Parameters.mpInletPressure.GetValue(\"User\"))\n",
    "network.GetNode(network.GetNumberOfNodes()-1).GetFlowProperties().SetIsOutputNode(True)\n",
    "#network.GetNode(network.GetNumberOfNodes()-1).GetFlowProperties().SetPressure(Owen11Parameters.mpOutletPressure.GetValue(\"User\"))\n",
    "nodes = network.GetNodes();\n",
    "for eachNode in nodes:\n",
    "    loc = eachNode.rGetLocation().rGetLocation()\n",
    "    scaled_length = reference_length.Convert(vessel_length)\n",
    "    node_azimuth_angle = float(azimuth_angle * loc.Convert(reference_length)[0]*scaled_length)\n",
    "    node_polar_angle = float(polar_angle*loc.Convert(reference_length)[1]*scaled_length)\n",
    "    radius = radius - 0.5*thickness\n",
    "    new_position = microvessel_chaste.geometry.Vertex3(np.cos(node_azimuth_angle) * np.sin(node_polar_angle)*radius,\n",
    "                                                                   np.cos(node_polar_angle)*radius,\n",
    "                                                                   np.sin(node_azimuth_angle) * np.sin(node_polar_angle)*radius)\n",
    "    eachNode.SetLocation(new_position)"
   ]
  },
  {
   "cell_type": "markdown",
   "metadata": {},
   "source": [
    "Visualize the network\n",
    "\n"
   ]
  },
  {
   "cell_type": "code",
   "execution_count": null,
   "metadata": {},
   "outputs": [],
   "source": [
    "scene.SetVesselNetwork(network)\n",
    "scene.GetVesselNetworkActorGenerator().SetEdgeSize(20.0)\n",
    "nb_manager.vtk_show(scene, height=600, width = 1000)"
   ]
  },
  {
   "cell_type": "markdown",
   "metadata": {},
   "source": [
    "In the experimental assay a pellet containing VEGF is implanted near the top of the cornea. We model this\n",
    "as a fixed concentration of VEGF in a cuboidal region. First set up the vegf sub domain.\n",
    "\n"
   ]
  },
  {
   "cell_type": "code",
   "execution_count": null,
   "metadata": {},
   "outputs": [],
   "source": [
    "pellet = microvessel_chaste.geometry.Part3()\n",
    "pellet_side_length = 300.0e-6 * metres\n",
    "origin = microvessel_chaste.geometry.Vertex3(-150.0e-6 * metres, 900.0e-6 * metres)\n",
    "pellet.AddCuboid(pellet_side_length, pellet_side_length, 5.0*pellet_side_length, origin)\n",
    "pellet.Write(file_handler.GetOutputDirectoryFullPath()+\"initial_vegf_pellet.vtp\",\n",
    "             microvessel_chaste.geometry.GeometryFormat.VTP, True)"
   ]
  },
  {
   "cell_type": "markdown",
   "metadata": {},
   "source": [
    "Now make a finite element mesh on the cornea.\n",
    "\n"
   ]
  },
  {
   "cell_type": "code",
   "execution_count": null,
   "metadata": {},
   "outputs": [],
   "source": [
    "mesh_generator = microvessel_chaste.mesh.DiscreteContinuumMeshGenerator3_3()\n",
    "mesh_generator.SetDomain(cornea)\n",
    "mesh_generator.SetMaxElementArea(1e-6 * metres_cubed)\n",
    "mesh_generator.Update()\n",
    "mesh = mesh_generator.GetMesh()"
   ]
  },
  {
   "cell_type": "markdown",
   "metadata": {},
   "source": [
    "We can visualize the mesh\n",
    "\n"
   ]
  },
  {
   "cell_type": "code",
   "execution_count": null,
   "metadata": {},
   "outputs": [],
   "source": [
    "scene.GetPartActorGenerator().SetVolumeOpacity(0.0)\n",
    "scene.SetMesh(mesh)\n",
    "nb_manager.vtk_show(scene, height=600, width = 1000)"
   ]
  },
  {
   "cell_type": "markdown",
   "metadata": {},
   "source": [
    "Set up the vegf pde. Note the scaling of the refernece concentration to nM to avoid numerical\n",
    "precision problems.\n",
    "\n"
   ]
  },
  {
   "cell_type": "code",
   "execution_count": null,
   "metadata": {},
   "outputs": [],
   "source": [
    "vegf_pde = microvessel_chaste.pde.DiscreteContinuumLinearEllipticPde3_3()\n",
    "#vegf_pde.SetIsotropicDiffusionConstant(Owen11Parameters.mpVegfDiffusivity.GetValue(\"User\"))\n",
    "#vegf_pde.SetContinuumLinearInUTerm(-1.0*Owen11Parameters.mpVegfDecayRate.GetValue(\"User\"))\n",
    "vegf_pde.SetReferenceConcentration(1.e-9*mole_per_metre_cubed)"
   ]
  },
  {
   "cell_type": "markdown",
   "metadata": {},
   "source": [
    "Add a boundary condition to fix the VEGF concentration in the vegf subdomain.\n",
    "\n"
   ]
  },
  {
   "cell_type": "code",
   "execution_count": null,
   "metadata": {},
   "outputs": [],
   "source": [
    "vegf_boundary = microvessel_chaste.pde.DiscreteContinuumBoundaryCondition3()\n",
    "vegf_boundary.SetType(microvessel_chaste.pde.BoundaryConditionType.IN_PART)\n",
    "vegf_boundary.SetSource(microvessel_chaste.pde.BoundaryConditionSource.PRESCRIBED)\n",
    "vegf_boundary.SetValue(3.e-9*mole_per_metre_cubed)\n",
    "vegf_boundary.SetDomain(pellet)"
   ]
  },
  {
   "cell_type": "markdown",
   "metadata": {},
   "source": [
    "Set up the PDE solvers for the vegf problem.\n",
    "\n"
   ]
  },
  {
   "cell_type": "code",
   "execution_count": null,
   "metadata": {},
   "outputs": [],
   "source": [
    "vegf_solver = microvessel_chaste.pde.SimpleLinearEllipticFiniteElementSolver3()\n",
    "vegf_solver.SetPde(vegf_pde)\n",
    "vegf_solver.SetLabel(\"vegf\")\n",
    "vegf_solver.SetGrid(mesh)\n",
    "vegf_solver.AddBoundaryCondition(vegf_boundary)"
   ]
  },
  {
   "cell_type": "markdown",
   "metadata": {},
   "source": [
    "Set up an angiogenesis solver and add sprouting and migration rules.\n",
    "\n"
   ]
  },
  {
   "cell_type": "code",
   "execution_count": null,
   "metadata": {},
   "outputs": [],
   "source": [
    "angiogenesis_solver = microvessel_chaste.simulation.AngiogenesisSolver3()\n",
    "sprouting_rule = microvessel_chaste.simulation.OffLatticeSproutingRule3()\n",
    "sprouting_rule.SetSproutingProbability(1.e-4* per_second)\n",
    "migration_rule = microvessel_chaste.simulation.OffLatticeMigrationRule3()\n",
    "migration_rule.SetChemotacticStrength(0.1)\n",
    "migration_rule.SetAttractionStrength(0.5)\n",
    "sprout_velocity = (50.0e-6/(24.0*3600.0))*metre_per_second #Secomb13\n",
    "migration_rule.SetSproutingVelocity(sprout_velocity)\n",
    "#angiogenesis_solver.SetMigrationRule(migration_rule)\n",
    "#angiogenesis_solver.SetSproutingRule(sprouting_rule)\n",
    "#sprouting_rule.SetDiscreteContinuumSolver(vegf_solver)\n",
    "#migration_rule.SetDiscreteContinuumSolver(vegf_solver)\n",
    "angiogenesis_solver.SetVesselNetwork(network)\n",
    "angiogenesis_solver.SetBoundingDomain(cornea)"
   ]
  },
  {
   "cell_type": "markdown",
   "metadata": {},
   "source": [
    "Set up the `MicrovesselSolver` which coordinates all solves.\n",
    "\n"
   ]
  },
  {
   "cell_type": "code",
   "execution_count": null,
   "metadata": {},
   "outputs": [],
   "source": [
    "microvessel_solver = microvessel_chaste.simulation.MicrovesselSolver3()\n",
    "microvessel_solver.SetVesselNetwork(network)\n",
    "microvessel_solver.AddDiscreteContinuumSolver(vegf_solver)\n",
    "microvessel_solver.SetOutputFileHandler(file_handler)\n",
    "microvessel_solver.SetOutputFrequency(1)\n",
    "microvessel_solver.SetAngiogenesisSolver(angiogenesis_solver)\n",
    "microvessel_solver.SetUpdatePdeEachSolve(False)"
   ]
  },
  {
   "cell_type": "markdown",
   "metadata": {},
   "source": [
    "Set up plotting\n",
    "\n"
   ]
  },
  {
   "cell_type": "code",
   "execution_count": null,
   "metadata": {},
   "outputs": [],
   "source": [
    "scene.GetDiscreteContinuumMeshActorGenerator().SetVolumeOpacity(0.3)\n",
    "scene.GetDiscreteContinuumMeshActorGenerator().SetDataLabel(\"Nodal Values\")\n",
    "scene.GetVesselNetworkActorGenerator().SetEdgeSize(5.0)\n",
    "scene_modifier = microvessel_chaste.visualization.JupyterMicrovesselSceneModifier3(nb_manager)\n",
    "scene_modifier.SetVtkScene(scene)\n",
    "scene_modifier.SetUpdateFrequency(1)\n",
    "microvessel_solver.AddMicrovesselModifier(scene_modifier)"
   ]
  },
  {
   "cell_type": "markdown",
   "metadata": {},
   "source": [
    "Set the simulation time and run the solver.\n",
    "\n"
   ]
  },
  {
   "cell_type": "code",
   "execution_count": null,
   "metadata": {},
   "outputs": [],
   "source": [
    "chaste.cell_based.SimulationTime.Instance().SetEndTimeAndNumberOfTimeSteps(60.0, 5)\n",
    "microvessel_solver.Run()"
   ]
  },
  {
   "cell_type": "markdown",
   "metadata": {},
   "source": [
    "Dump the parameters to file for inspection.\n",
    "\n"
   ]
  },
  {
   "cell_type": "code",
   "execution_count": null,
   "metadata": {},
   "outputs": [],
   "source": [
    "ParameterCollection.Instance().DumpToFile(file_handler.GetOutputDirectoryFullPath()+\"parameter_collection.xml\")\n",
    "nb_manager.add_parameter_table(file_handler)\n",
    "# Tear down the test \n",
    "chaste.cell_based.TearDownNotebookTest()"
   ]
  }
 ],
 "metadata": {},
 "nbformat": 4,
 "nbformat_minor": 2
}
